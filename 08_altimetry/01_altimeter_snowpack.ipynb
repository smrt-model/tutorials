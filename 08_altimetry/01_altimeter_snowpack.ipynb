{
 "cells": [
  {
   "cell_type": "markdown",
   "id": "4d2db71e",
   "metadata": {},
   "source": [
    "# Nadir Altimeter in Low Resolution Mode for snowpack\n",
    "\n",
    "more info, see Larue et al 2021, https://doi.org/10.1016/j.rse.2021.112534\n",
    " \n",
    "**Goal**:\n",
    "- Simulate altimeter waveform\n",
    "- Output where contributions are coming from (surface vs interfaces vs volume)\n",
    "- Observe the influence of altimeter characteristics and options in the solver\n",
    "\n",
    "**Learning**:\n",
    "\n",
    "This tutorial will help you use the following modules\n",
    "- nadir_lrm_altimetry solver\n",
    "- altimeter_list sensors\n",
    "\n",
    "First, we import the necessary modules"
   ]
  },
  {
   "cell_type": "code",
   "execution_count": null,
   "id": "46a0ec61",
   "metadata": {},
   "outputs": [],
   "source": [
    "# Standard imports\n",
    "from copy import deepcopy\n",
    "\n",
    "import numpy as np\n",
    "import matplotlib.pyplot as plt\n",
    "\n",
    "from smrt import make_snowpack, make_ice_column, make_model, make_interface\n",
    "from smrt.core.globalconstants import C_SPEED\n",
    "from smrt.inputs import altimeter_list"
   ]
  },
  {
   "cell_type": "markdown",
   "id": "74f17e02",
   "metadata": {},
   "source": [
    "### Let's create a one layer snowpack\n"
   ]
  },
  {
   "cell_type": "code",
   "execution_count": null,
   "id": "f2ed390e",
   "metadata": {},
   "outputs": [],
   "source": [
    "# add a rough interface at the top\n",
    "\n",
    "rough_interface = make_interface(\"geometrical_optics_backscatter\", mean_square_slope=0.05)\n",
    "\n",
    "snowpack = make_snowpack(thickness=[1000], microstructure_model='exponential',\n",
    "                     density=[350], corr_length=700e-6, temperature=260,\n",
    "                     surface=rough_interface)\n"
   ]
  },
  {
   "cell_type": "markdown",
   "id": "7b3c068c",
   "metadata": {},
   "source": [
    "### Specify sensor\n",
    "\n",
    "There are a number of altimeter sensors in altimeter_list. We'll use CryoSat-2 in SIN mode."
   ]
  },
  {
   "cell_type": "code",
   "execution_count": null,
   "id": "512246fd",
   "metadata": {},
   "outputs": [],
   "source": [
    "sensor = altimeter_list.sentinel3_sral()"
   ]
  },
  {
   "cell_type": "markdown",
   "id": "1185e96f",
   "metadata": {},
   "source": [
    "### Configure SMRT model\n",
    "\n",
    "Use the Improved Born Approximation electromagnetic model and the LRM altimeter solver"
   ]
  },
  {
   "cell_type": "code",
   "execution_count": null,
   "id": "79be8ab7",
   "metadata": {},
   "outputs": [],
   "source": [
    "altimodel = make_model(\"iba\", \"nadir_lrm_altimetry\")"
   ]
  },
  {
   "cell_type": "markdown",
   "id": "374a9687",
   "metadata": {},
   "source": [
    "### Run SMRT\n",
    "\n"
   ]
  },
  {
   "cell_type": "code",
   "execution_count": null,
   "id": "79b530e8",
   "metadata": {},
   "outputs": [],
   "source": [
    "result = altimodel.run(sensor, snowpack)\n",
    "result.sigma()"
   ]
  },
  {
   "cell_type": "markdown",
   "id": "ae428ed9-f909-40bc-b416-4c978fb01fa8",
   "metadata": {},
   "source": [
    "Observe the content of the result object. \n",
    "\n"
   ]
  },
  {
   "cell_type": "markdown",
   "id": "16f93670-12c0-4d6f-9971-9bc4158096ba",
   "metadata": {},
   "source": [
    "### plot the waveform"
   ]
  },
  {
   "cell_type": "code",
   "execution_count": null,
   "id": "69b72459",
   "metadata": {},
   "outputs": [],
   "source": [
    "plt.close()\n",
    "fig, ax = plt.subplots(nrows=1, ncols=1, figsize=(10,6))\n",
    "\n",
    "ax.plot(result.sigma(), 'k--')\n",
    "\n",
    "ax.set_xlabel('Gate number', size = 15)\n",
    "ax.set_ylabel('Returned power', size = 15)\n",
    "plt.tight_layout()"
   ]
  },
  {
   "cell_type": "markdown",
   "id": "e314bef5",
   "metadata": {},
   "source": [
    "The gate number is the time since recording starts. In general altimeters try to adjust this starting time in order to keep the leading edge (the big rise) as close as possible to a prescribeded gate number (not too early, not too late). In SMRT, the surface corresponds exactly to a fixed gate number. Here nominal_gate=42 for Sentinel 3. See parameters in altimeter_list. This has consequences when comparing to observed waveforms, especially when these waveforms are avaraged (see later)\n",
    "\n",
    "Now let convert the gate number into time. In fact SMRT  already gives the time in the result object. See t_gate (in seconds). Redo the waveform plot as a function of time (in nanosecs) instead of gate number\n"
   ]
  },
  {
   "cell_type": "code",
   "execution_count": null,
   "id": "bfd34b8b-bce7-427c-a548-e8c289837021",
   "metadata": {},
   "outputs": [],
   "source": [
    "# to change to plot as a function of time\n",
    "\n",
    "plt.close()\n",
    "fig, ax = plt.subplots(nrows=1, ncols=1, figsize=(10,6))\n",
    "\n",
    "ax.plot(result.sigma(), 'k--')\n",
    "\n",
    "ax.set_xlabel('Gate number', size = 15)\n",
    "ax.set_ylabel('Returned power', size = 15)\n",
    "plt.tight_layout()"
   ]
  },
  {
   "cell_type": "markdown",
   "id": "e7b1646c-5bf0-4d4b-a713-f491f0faf825",
   "metadata": {},
   "source": [
    "Sometimes it is clearer to plot as a function of \"apparent\" depth. Convert the t_gate to distance.  The equation is :\n",
    "\n",
    "a_depth = t_gate * C_SPEED / 2\n",
    "\n",
    "Note that a_depth is only apparent as the speed of light in the snowpack is lower than in the vaccum.\n"
   ]
  },
  {
   "cell_type": "code",
   "execution_count": null,
   "id": "11877bdb-6236-4e2e-9939-780b6b40c9f3",
   "metadata": {},
   "outputs": [],
   "source": [
    "# to change to plot as a function of apparent depth\n",
    "\n",
    "plt.close()\n",
    "fig, ax = plt.subplots(nrows=1, ncols=1, figsize=(10,6))\n",
    "\n",
    "ax.plot(result.sigma(), 'k--')\n",
    "\n",
    "ax.set_xlabel('Gate number', size = 15)\n",
    "ax.set_ylabel('Returned power', size = 15)\n",
    "plt.tight_layout()\n"
   ]
  },
  {
   "cell_type": "markdown",
   "id": "ab3df337-ae56-4134-98a5-0469558738c8",
   "metadata": {},
   "source": [
    "### Separate the contributions\n",
    "\n",
    "SMRT compute the return from the surface, volume and interfaces independantly and can return these contributions as follows:"
   ]
  },
  {
   "cell_type": "code",
   "execution_count": null,
   "id": "226410b5-fe2e-460a-80e9-ffe3154d7f75",
   "metadata": {},
   "outputs": [],
   "source": [
    "altimodel_with_returns = make_model(\"iba\", \"nadir_lrm_altimetry\", rtsolver_options=dict(return_contributions=True))"
   ]
  },
  {
   "cell_type": "code",
   "execution_count": null,
   "id": "eaf6c66c",
   "metadata": {},
   "outputs": [],
   "source": [
    "result_with_returns = altimodel_with_returns.run(sensor, snowpack)"
   ]
  },
  {
   "cell_type": "code",
   "execution_count": null,
   "id": "4e665d4b-b0f4-4e34-9243-669e78d173dd",
   "metadata": {},
   "outputs": [],
   "source": [
    "#show results in xarray format for more details. See the \"contribution\" dimension.\n",
    "result_with_returns.sigma()"
   ]
  },
  {
   "cell_type": "code",
   "execution_count": null,
   "id": "c244cbe0",
   "metadata": {},
   "outputs": [],
   "source": [
    "# plot all the contributions\n",
    "plt.close()\n",
    "fig, ax = plt.subplots(nrows=1, ncols=1, figsize=(10,6))\n",
    "\n",
    "ax.plot(result_with_returns.t_gate*1e9, result_with_returns.sigma(contribution='total'), 'k-', linewidth=5, label='Total')\n",
    "ax.plot(result_with_returns.t_gate*1e9, result_with_returns.sigma(contribution='interfaces'), 'b+-', label='Interfaces')\n",
    "ax.plot(result_with_returns.t_gate*1e9, result_with_returns.sigma(contribution='surface'), 'c-', linewidth=3, label='Surface')\n",
    "ax.plot(result_with_returns.t_gate*1e9, result_with_returns.sigma(contribution='volume'), 'm--', linewidth=3, label='Volume')\n",
    "\n",
    "ax.legend()\n",
    "ax.set_xlabel('Time (ns)', size = 15)\n",
    "ax.set_ylabel('Returned power', size = 15)\n",
    "plt.tight_layout()"
   ]
  },
  {
   "cell_type": "markdown",
   "id": "41b16fa1",
   "metadata": {},
   "source": [
    "Here, the snowpack has a rough surface, a volume but no internal interfaces (see tutorial 02_altimeter_seaice for interfaces)"
   ]
  },
  {
   "cell_type": "markdown",
   "id": "23dc27e7-3917-4208-afb5-9721c1155b75",
   "metadata": {},
   "source": [
    "### Further decomposition of the signal\n",
    "\n",
    "To understand the altimetric signal it is convenient to only calculate the \"vertical\" component of the echo, as if the altimeter antenna pattern were infinitely small (like a perfect laser)"
   ]
  },
  {
   "cell_type": "code",
   "execution_count": null,
   "id": "209e4d5d-c8bd-4833-b038-70bc61c1ac4f",
   "metadata": {},
   "outputs": [],
   "source": [
    "# This can be done by adjusting the altimeter parameters\n",
    "\n",
    "from smrt.inputs.altimeter_list import make_multi_channel_altimeter\n",
    "def sentinel3_sral_narrow_beam(channel=None):\n",
    "    config = {\n",
    "        'Ku': dict(frequency=13.575e9,\n",
    "                   altitude=814e3,\n",
    "                   pulse_bandwidth=320e6,\n",
    "                   nominal_gate=44,\n",
    "                   ngate=128,\n",
    "                   beamwidth=0.00001,\n",
    "                   ),\n",
    "    }\n",
    "\n",
    "    return make_multi_channel_altimeter(config, channel)"
   ]
  },
  {
   "cell_type": "code",
   "execution_count": null,
   "id": "e6e0ba3f-4886-4de6-b9b8-06df4bf04968",
   "metadata": {},
   "outputs": [],
   "source": [
    "# run SMRT with this new altimeter and plot the result\n",
    "\n",
    "..."
   ]
  },
  {
   "cell_type": "markdown",
   "id": "47f36788-de0d-468c-b755-aa0574da26cf",
   "metadata": {},
   "source": [
    "Another (cleaner) way to achieve the same is to use the \"skip_pfs_convolution\" options. This stops the calculation before applying the \"Brown\" model. See nadir_lrm_altimetry code for available options.\n",
    "                                                                                                                  \n",
    "Note that the nominal_gate is applied with the pfs_convolution, so here the snowpack surface is at time=0.\n"
   ]
  },
  {
   "cell_type": "code",
   "execution_count": null,
   "id": "7c63eda0-887f-49db-80bb-142f245895c6",
   "metadata": {},
   "outputs": [],
   "source": [
    "# create a model with the skip_pfs_convolution option, run and plot\n",
    "altimodel_with_returns = make_model(\"iba\", \"nadir_lrm_altimetry\", rtsolver_options=dict(return_contributions=True,\n",
    "                                                                                       skip_pfs_convolution=False))\n",
    "..."
   ]
  },
  {
   "cell_type": "markdown",
   "id": "ff2a406e-e3d6-437c-8f5d-214616411ea5",
   "metadata": {},
   "source": [
    "### Simulate more realistic waveforms\n",
    "\n",
    "The surface is never flat, and this roughness has two consequences:\n",
    "\n",
    "- influence the power of the surface echo w/r to the volume (electromagnetic effect).\n",
    "- influence the time of return when the height of the topographic within the footprint varies by more than the gate equivalent depth.\n",
    "\n",
    "Both effects have the same origin, but are treated completely independantly in SMRT. For the former effect see the tutorial 02_altimeter_seaice. For the latter effect, there are two options in SMRT to simulate it.\n",
    "\n",
    "The easy one is to add an attribute to the snowpack: sigma_surface which is the RMS height of the topography. This only controls the second effect, not the \"electromagnetic\" roughness that must be controled independantly."
   ]
  },
  {
   "cell_type": "code",
   "execution_count": null,
   "id": "60baaec0-992b-497f-8826-a3a079536d4a",
   "metadata": {},
   "outputs": [],
   "source": [
    "snowpack_topography = deepcopy(snowpack)\n",
    "snowpack_topography.sigma_surface = 2  # 2 m RMS height in the footprint.  # the topography is supposed to be normally distributed\n",
    "\n",
    "results_with_topography = altimodel_with_returns.run(sensor, snowpack_topography)\n",
    "results = altimodel_with_returns.run(sensor, snowpack)\n"
   ]
  },
  {
   "cell_type": "code",
   "execution_count": null,
   "id": "01211ac2-2328-4c86-8ff2-f28f1705508f",
   "metadata": {},
   "outputs": [],
   "source": [
    "plt.close()\n",
    "fig, ax = plt.subplots(nrows=1, ncols=1, figsize=(10,6))\n",
    "\n",
    "ax.plot(result_with_returns.t_gate*1e9, results.sigma(contribution='total'), 'k-', linewidth=5, label='without topography')\n",
    "ax.plot(result_with_returns.t_gate*1e9, results_with_topography.sigma(contribution='total'), '-', linewidth=5, label='with topography')\n",
    "\n",
    "ax.legend()\n",
    "ax.set_xlabel('Time (ns)', size = 15)\n",
    "ax.set_ylabel('Returned power', size = 15)\n",
    "plt.tight_layout()"
   ]
  },
  {
   "cell_type": "markdown",
   "id": "5a623e5a-2afa-4f8e-8e14-86da7ce21350",
   "metadata": {},
   "source": [
    "The second way is to perform the convolution of the signal. This allows to take into account non-gaussian topography.\n",
    "\n",
    "The best way is to achieve this is to use \"np.convolve\" on the waveform"
   ]
  },
  {
   "cell_type": "code",
   "execution_count": null,
   "id": "d422def8-9b3c-439e-b489-05a8637b5c0b",
   "metadata": {},
   "outputs": [],
   "source": []
  },
  {
   "cell_type": "markdown",
   "id": "c79e6d3d",
   "metadata": {
    "jp-MarkdownHeadingCollapsed": true
   },
   "source": [
    "### Further investigations\n",
    "\n",
    "1. Change the sensor and/or investigate the effect of the sensor parameters.\n",
    "\n",
    "2. Analysis the sensitivity to the snowpack parameters (e.g. density and grain size)\n",
    "\n",
    "3. Replicate Larue et al. 2021 simulations using data from https://github.com/smrt-model/microwave_grain_size_and_polydispersity_paper\n",
    "\n",
    "\n",
    "or go to the next tutorial to learn more about interfaces, roughness, more complex environments.\n"
   ]
  },
  {
   "cell_type": "code",
   "execution_count": null,
   "id": "c626d83a",
   "metadata": {},
   "outputs": [],
   "source": []
  },
  {
   "cell_type": "code",
   "execution_count": null,
   "id": "6e76c4d4-d6b8-480c-b235-3e607c587a14",
   "metadata": {},
   "outputs": [],
   "source": []
  }
 ],
 "metadata": {
  "kernelspec": {
   "display_name": "Python (smrt)",
   "language": "python",
   "name": "smrt"
  },
  "language_info": {
   "codemirror_mode": {
    "name": "ipython",
    "version": 3
   },
   "file_extension": ".py",
   "mimetype": "text/x-python",
   "name": "python",
   "nbconvert_exporter": "python",
   "pygments_lexer": "ipython3",
   "version": "3.9.16"
  }
 },
 "nbformat": 4,
 "nbformat_minor": 5
}
