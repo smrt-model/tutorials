{
 "cells": [
  {
   "cell_type": "markdown",
   "id": "4d2db71e",
   "metadata": {},
   "source": [
    "# Nadir Altimeter in Low Resolution Mode Tutorial\n",
    "\n",
    "more info, see Larue et al 2021, https://doi.org/10.1016/j.rse.2021.112534\n",
    " \n",
    "**Goal**:\n",
    "- Simulate altimeter waveform\n",
    "- Output where contributions are coming from (surface vs interfaces vs volume)\n",
    "- Include interface roughness\n",
    "\n",
    "**Learning**:\n",
    "\n",
    "This tutorial will help you use the following modules\n",
    "- nadir_lrm_altimetry solver\n",
    "- interface.geometrical_optics_backscatter module\n",
    "- altimeter_list sensors\n",
    "\n",
    "First, we import the necessary modules"
   ]
  },
  {
   "cell_type": "code",
   "execution_count": 49,
   "id": "46a0ec61",
   "metadata": {},
   "outputs": [],
   "source": [
    "# Standard imports\n",
    "import numpy as np\n",
    "import matplotlib.pyplot as plt\n",
    "from copy import deepcopy\n",
    "\n",
    "from smrt import make_snowpack, make_ice_column, make_model, make_interface, PSU\n",
    "from smrt.inputs import altimeter_list\n",
    "\n",
    "from smrt.permittivity.saline_snow import saline_snow_permittivity_scharien_with_stogryn95 as ssp\n"
   ]
  },
  {
   "cell_type": "markdown",
   "id": "74f17e02",
   "metadata": {},
   "source": [
    "### Let's create a two layer snowpack on top of a sea ice layer\n",
    "\n",
    "We'll allow the snow to be saline and use the Scharien permittivity formulation imported as ssp above. This is because the SMRT default permittivity for snow (wetice_permittivity_bohren83) doesn't depend on salinity.\n",
    "\n",
    "Salinity can also specified using PSU unit (4 * PSU). Dont forget to import PSU unit from globalconstant. (see above)\n",
    "\n",
    "As we have not yet specified the interfaces, all interfaces are assumed to be flat.\n"
   ]
  },
  {
   "cell_type": "code",
   "execution_count": 50,
   "id": "f2ed390e",
   "metadata": {},
   "outputs": [],
   "source": [
    "# specified ice permittivity model of snow with ssp\n",
    "snow = make_snowpack(thickness=[0.1, 0.2], microstructure_model='exponential',\n",
    "                     ice_permittivity_model=ssp,density=[300, 350], \n",
    "                     corr_length=0.5e-4, temperature=260, salinity=[0.001, 0.006] )\n",
    "\n",
    "#specfied ice type (firstyear or multiyear)\n",
    "ice = make_ice_column(ice_type='firstyear',\n",
    "                    thickness=[2], temperature=260, \n",
    "                    microstructure_model='independent_sphere',\n",
    "                    radius=1e-3,\n",
    "                    brine_inclusion_shape='spheres',\n",
    "                    density=910,\n",
    "                    salinity=32*PSU,\n",
    "                    add_water_substrate=True)\n",
    "\n",
    "medium = snow + ice"
   ]
  },
  {
   "cell_type": "markdown",
   "id": "7b3c068c",
   "metadata": {},
   "source": [
    "### Specify sensor\n",
    "\n",
    "There are a number of altimeter sensors in altimeter_list. We'll use CryoSat-2 in SIN mode."
   ]
  },
  {
   "cell_type": "code",
   "execution_count": 51,
   "id": "512246fd",
   "metadata": {},
   "outputs": [],
   "source": [
    "sensor = altimeter_list.cryosat2_sin()"
   ]
  },
  {
   "cell_type": "markdown",
   "id": "1185e96f",
   "metadata": {},
   "source": [
    "### Configure SMRT model\n",
    "\n",
    "Use the Improved Born Approximation electromagnetic model and the LRM altimeter solver"
   ]
  },
  {
   "cell_type": "code",
   "execution_count": 52,
   "id": "79be8ab7",
   "metadata": {},
   "outputs": [],
   "source": [
    "altimodel = make_model(\"iba\", \"nadir_lrm_altimetry\")"
   ]
  },
  {
   "cell_type": "markdown",
   "id": "374a9687",
   "metadata": {},
   "source": [
    "### Run SMRT\n",
    "\n",
    "and plot altimeter waveform"
   ]
  },
  {
   "cell_type": "code",
   "execution_count": 53,
   "id": "79b530e8",
   "metadata": {},
   "outputs": [],
   "source": [
    "result = altimodel.run(sensor, medium)"
   ]
  },
  {
   "cell_type": "code",
   "execution_count": 54,
   "id": "69b72459",
   "metadata": {},
   "outputs": [
    {
     "data": {
      "image/png": "[encoded data removed]",
      "text/plain": [
       "<Figure size 720x432 with 1 Axes>"
      ]
     },
     "metadata": {
      "needs_background": "light"
     },
     "output_type": "display_data"
    }
   ],
   "source": [
    "plt.close()\n",
    "fig, ax = plt.subplots(nrows=1, ncols=1, figsize=(10,6))\n",
    "\n",
    "#time is in nano seconds, 1 bins = 3.125 ns for Cryosat. Check other sensor specs in altimeter_list\n",
    "ax.plot(result.t_gate*1e9, result.sigma(), 'k--')\n",
    "\n",
    "ax.set_xlabel('Time (ns)', size = 15)\n",
    "ax.set_ylabel('Backscatter ($\\sigma⁰$)', size = 15)\n",
    "plt.tight_layout()"
   ]
  },
  {
   "cell_type": "markdown",
   "id": "e314bef5",
   "metadata": {},
   "source": [
    "The initial sharp rise is called the leading edge, and is often used as the basis for retracker algorithms to calculate the ice freeboard. The descending curve is the trailing edge.\n",
    "\n",
    "Let's see where the radar echo is coming from. For this, we'll need to specify a radiative transfer option when configuring SMRT to keep track of the contributions."
   ]
  },
  {
   "cell_type": "code",
   "execution_count": 55,
   "id": "39f1606f",
   "metadata": {},
   "outputs": [],
   "source": [
    "altimodel_with_returns = make_model(\"iba\", \"nadir_lrm_altimetry\", rtsolver_options=dict(return_contributions=True))"
   ]
  },
  {
   "cell_type": "markdown",
   "id": "285390a7",
   "metadata": {},
   "source": [
    "#### Re-run the model and replot the graph showing individual contributions"
   ]
  },
  {
   "cell_type": "code",
   "execution_count": 56,
   "id": "eaf6c66c",
   "metadata": {},
   "outputs": [],
   "source": [
    "result_with_returns = altimodel_with_returns.run(sensor, medium)"
   ]
  },
  {
   "cell_type": "code",
   "execution_count": 57,
   "id": "4e665d4b-b0f4-4e34-9243-669e78d173dd",
   "metadata": {},
   "outputs": [
    {
     "data": {
      "text/html": [
       "<div><svg style=\"position: absolute; width: 0; height: 0; overflow: hidden\">\n",
       "<defs>\n",
       "<symbol id=\"icon-database\" viewBox=\"0 0 32 32\">\n",
       "<path d=\"M16 0c-8.837 0-16 2.239-16 5v4c0 2.761 7.163 5 16 5s16-2.239 16-5v-4c0-2.761-7.163-5-16-5z\"></path>\n",
       "<path d=\"M16 17c-8.837 0-16-2.239-16-5v6c0 2.761 7.163 5 16 5s16-2.239 16-5v-6c0 2.761-7.163 5-16 5z\"></path>\n",
       "<path d=\"M16 26c-8.837 0-16-2.239-16-5v6c0 2.761 7.163 5 16 5s16-2.239 16-5v-6c0 2.761-7.163 5-16 5z\"></path>\n",
       "</symbol>\n",
       "<symbol id=\"icon-file-text2\" viewBox=\"0 0 32 32\">\n",
       "<path d=\"M28.681 7.159c-0.694-0.947-1.662-2.053-2.724-3.116s-2.169-2.030-3.116-2.724c-1.612-1.182-2.393-1.319-2.841-1.319h-15.5c-1.378 0-2.5 1.121-2.5 2.5v27c0 1.378 1.122 2.5 2.5 2.5h23c1.378 0 2.5-1.122 2.5-2.5v-19.5c0-0.448-0.137-1.23-1.319-2.841zM24.543 5.457c0.959 0.959 1.712 1.825 2.268 2.543h-4.811v-4.811c0.718 0.556 1.584 1.309 2.543 2.268zM28 29.5c0 0.271-0.229 0.5-0.5 0.5h-23c-0.271 0-0.5-0.229-0.5-0.5v-27c0-0.271 0.229-0.5 0.5-0.5 0 0 15.499-0 15.5 0v7c0 0.552 0.448 1 1 1h7v19.5z\"></path>\n",
       "<path d=\"M23 26h-14c-0.552 0-1-0.448-1-1s0.448-1 1-1h14c0.552 0 1 0.448 1 1s-0.448 1-1 1z\"></path>\n",
       "<path d=\"M23 22h-14c-0.552 0-1-0.448-1-1s0.448-1 1-1h14c0.552 0 1 0.448 1 1s-0.448 1-1 1z\"></path>\n",
       "<path d=\"M23 18h-14c-0.552 0-1-0.448-1-1s0.448-1 1-1h14c0.552 0 1 0.448 1 1s-0.448 1-1 1z\"></path>\n",
       "</symbol>\n",
       "</defs>\n",
       "</svg>\n",
       "<style>/* CSS stylesheet for displaying xarray objects in jupyterlab.\n",
       " *\n",
       " */\n",
       "\n",
       ":root {\n",
       "  --xr-font-color0: var(--jp-content-font-color0, rgba(0, 0, 0, 1));\n",
       "  --xr-font-color2: var(--jp-content-font-color2, rgba(0, 0, 0, 0.54));\n",
       "  --xr-font-color3: var(--jp-content-font-color3, rgba(0, 0, 0, 0.38));\n",
       "  --xr-border-color: var(--jp-border-color2, #e0e0e0);\n",
       "  --xr-disabled-color: var(--jp-layout-color3, #bdbdbd);\n",
       "  --xr-background-color: var(--jp-layout-color0, white);\n",
       "  --xr-background-color-row-even: var(--jp-layout-color1, white);\n",
       "  --xr-background-color-row-odd: var(--jp-layout-color2, #eeeeee);\n",
       "}\n",
       "\n",
       "html[theme=dark],\n",
       "body.vscode-dark {\n",
       "  --xr-font-color0: rgba(255, 255, 255, 1);\n",
       "  --xr-font-color2: rgba(255, 255, 255, 0.54);\n",
       "  --xr-font-color3: rgba(255, 255, 255, 0.38);\n",
       "  --xr-border-color: #1F1F1F;\n",
       "  --xr-disabled-color: #515151;\n",
       "  --xr-background-color: #111111;\n",
       "  --xr-background-color-row-even: #111111;\n",
       "  --xr-background-color-row-odd: #313131;\n",
       "}\n",
       "\n",
       ".xr-wrap {\n",
       "  display: block !important;\n",
       "  min-width: 300px;\n",
       "  max-width: 700px;\n",
       "}\n",
       "\n",
       ".xr-text-repr-fallback {\n",
       "  /* fallback to plain text repr when CSS is not injected (untrusted notebook) */\n",
       "  display: none;\n",
       "}\n",
       "\n",
       ".xr-header {\n",
       "  padding-top: 6px;\n",
       "  padding-bottom: 6px;\n",
       "  margin-bottom: 4px;\n",
       "  border-bottom: solid 1px var(--xr-border-color);\n",
       "}\n",
       "\n",
       ".xr-header > div,\n",
       ".xr-header > ul {\n",
       "  display: inline;\n",
       "  margin-top: 0;\n",
       "  margin-bottom: 0;\n",
       "}\n",
       "\n",
       ".xr-obj-type,\n",
       ".xr-array-name {\n",
       "  margin-left: 2px;\n",
       "  margin-right: 10px;\n",
       "}\n",
       "\n",
       ".xr-obj-type {\n",
       "  color: var(--xr-font-color2);\n",
       "}\n",
       "\n",
       ".xr-sections {\n",
       "  padding-left: 0 !important;\n",
       "  display: grid;\n",
       "  grid-template-columns: 150px auto auto 1fr 20px 20px;\n",
       "}\n",
       "\n",
       ".xr-section-item {\n",
       "  display: contents;\n",
       "}\n",
       "\n",
       ".xr-section-item input {\n",
       "  display: none;\n",
       "}\n",
       "\n",
       ".xr-section-item input + label {\n",
       "  color: var(--xr-disabled-color);\n",
       "}\n",
       "\n",
       ".xr-section-item input:enabled + label {\n",
       "  cursor: pointer;\n",
       "  color: var(--xr-font-color2);\n",
       "}\n",
       "\n",
       ".xr-section-item input:enabled + label:hover {\n",
       "  color: var(--xr-font-color0);\n",
       "}\n",
       "\n",
       ".xr-section-summary {\n",
       "  grid-column: 1;\n",
       "  color: var(--xr-font-color2);\n",
       "  font-weight: 500;\n",
       "}\n",
       "\n",
       ".xr-section-summary > span {\n",
       "  display: inline-block;\n",
       "  padding-left: 0.5em;\n",
       "}\n",
       "\n",
       ".xr-section-summary-in:disabled + label {\n",
       "  color: var(--xr-font-color2);\n",
       "}\n",
       "\n",
       ".xr-section-summary-in + label:before {\n",
       "  display: inline-block;\n",
       "  content: '►';\n",
       "  font-size: 11px;\n",
       "  width: 15px;\n",
       "  text-align: center;\n",
       "}\n",
       "\n",
       ".xr-section-summary-in:disabled + label:before {\n",
       "  color: var(--xr-disabled-color);\n",
       "}\n",
       "\n",
       ".xr-section-summary-in:checked + label:before {\n",
       "  content: '▼';\n",
       "}\n",
       "\n",
       ".xr-section-summary-in:checked + label > span {\n",
       "  display: none;\n",
       "}\n",
       "\n",
       ".xr-section-summary,\n",
       ".xr-section-inline-details {\n",
       "  padding-top: 4px;\n",
       "  padding-bottom: 4px;\n",
       "}\n",
       "\n",
       ".xr-section-inline-details {\n",
       "  grid-column: 2 / -1;\n",
       "}\n",
       "\n",
       ".xr-section-details {\n",
       "  display: none;\n",
       "  grid-column: 1 / -1;\n",
       "  margin-bottom: 5px;\n",
       "}\n",
       "\n",
       ".xr-section-summary-in:checked ~ .xr-section-details {\n",
       "  display: contents;\n",
       "}\n",
       "\n",
       ".xr-array-wrap {\n",
       "  grid-column: 1 / -1;\n",
       "  display: grid;\n",
       "  grid-template-columns: 20px auto;\n",
       "}\n",
       "\n",
       ".xr-array-wrap > label {\n",
       "  grid-column: 1;\n",
       "  vertical-align: top;\n",
       "}\n",
       "\n",
       ".xr-preview {\n",
       "  color: var(--xr-font-color3);\n",
       "}\n",
       "\n",
       ".xr-array-preview,\n",
       ".xr-array-data {\n",
       "  padding: 0 5px !important;\n",
       "  grid-column: 2;\n",
       "}\n",
       "\n",
       ".xr-array-data,\n",
       ".xr-array-in:checked ~ .xr-array-preview {\n",
       "  display: none;\n",
       "}\n",
       "\n",
       ".xr-array-in:checked ~ .xr-array-data,\n",
       ".xr-array-preview {\n",
       "  display: inline-block;\n",
       "}\n",
       "\n",
       ".xr-dim-list {\n",
       "  display: inline-block !important;\n",
       "  list-style: none;\n",
       "  padding: 0 !important;\n",
       "  margin: 0;\n",
       "}\n",
       "\n",
       ".xr-dim-list li {\n",
       "  display: inline-block;\n",
       "  padding: 0;\n",
       "  margin: 0;\n",
       "}\n",
       "\n",
       ".xr-dim-list:before {\n",
       "  content: '(';\n",
       "}\n",
       "\n",
       ".xr-dim-list:after {\n",
       "  content: ')';\n",
       "}\n",
       "\n",
       ".xr-dim-list li:not(:last-child):after {\n",
       "  content: ',';\n",
       "  padding-right: 5px;\n",
       "}\n",
       "\n",
       ".xr-has-index {\n",
       "  font-weight: bold;\n",
       "}\n",
       "\n",
       ".xr-var-list,\n",
       ".xr-var-item {\n",
       "  display: contents;\n",
       "}\n",
       "\n",
       ".xr-var-item > div,\n",
       ".xr-var-item label,\n",
       ".xr-var-item > .xr-var-name span {\n",
       "  background-color: var(--xr-background-color-row-even);\n",
       "  margin-bottom: 0;\n",
       "}\n",
       "\n",
       ".xr-var-item > .xr-var-name:hover span {\n",
       "  padding-right: 5px;\n",
       "}\n",
       "\n",
       ".xr-var-list > li:nth-child(odd) > div,\n",
       ".xr-var-list > li:nth-child(odd) > label,\n",
       ".xr-var-list > li:nth-child(odd) > .xr-var-name span {\n",
       "  background-color: var(--xr-background-color-row-odd);\n",
       "}\n",
       "\n",
       ".xr-var-name {\n",
       "  grid-column: 1;\n",
       "}\n",
       "\n",
       ".xr-var-dims {\n",
       "  grid-column: 2;\n",
       "}\n",
       "\n",
       ".xr-var-dtype {\n",
       "  grid-column: 3;\n",
       "  text-align: right;\n",
       "  color: var(--xr-font-color2);\n",
       "}\n",
       "\n",
       ".xr-var-preview {\n",
       "  grid-column: 4;\n",
       "}\n",
       "\n",
       ".xr-var-name,\n",
       ".xr-var-dims,\n",
       ".xr-var-dtype,\n",
       ".xr-preview,\n",
       ".xr-attrs dt {\n",
       "  white-space: nowrap;\n",
       "  overflow: hidden;\n",
       "  text-overflow: ellipsis;\n",
       "  padding-right: 10px;\n",
       "}\n",
       "\n",
       ".xr-var-name:hover,\n",
       ".xr-var-dims:hover,\n",
       ".xr-var-dtype:hover,\n",
       ".xr-attrs dt:hover {\n",
       "  overflow: visible;\n",
       "  width: auto;\n",
       "  z-index: 1;\n",
       "}\n",
       "\n",
       ".xr-var-attrs,\n",
       ".xr-var-data {\n",
       "  display: none;\n",
       "  background-color: var(--xr-background-color) !important;\n",
       "  padding-bottom: 5px !important;\n",
       "}\n",
       "\n",
       ".xr-var-attrs-in:checked ~ .xr-var-attrs,\n",
       ".xr-var-data-in:checked ~ .xr-var-data {\n",
       "  display: block;\n",
       "}\n",
       "\n",
       ".xr-var-data > table {\n",
       "  float: right;\n",
       "}\n",
       "\n",
       ".xr-var-name span,\n",
       ".xr-var-data,\n",
       ".xr-attrs {\n",
       "  padding-left: 25px !important;\n",
       "}\n",
       "\n",
       ".xr-attrs,\n",
       ".xr-var-attrs,\n",
       ".xr-var-data {\n",
       "  grid-column: 1 / -1;\n",
       "}\n",
       "\n",
       "dl.xr-attrs {\n",
       "  padding: 0;\n",
       "  margin: 0;\n",
       "  display: grid;\n",
       "  grid-template-columns: 125px auto;\n",
       "}\n",
       "\n",
       ".xr-attrs dt,\n",
       ".xr-attrs dd {\n",
       "  padding: 0;\n",
       "  margin: 0;\n",
       "  float: left;\n",
       "  padding-right: 10px;\n",
       "  width: auto;\n",
       "}\n",
       "\n",
       ".xr-attrs dt {\n",
       "  font-weight: normal;\n",
       "  grid-column: 1;\n",
       "}\n",
       "\n",
       ".xr-attrs dt:hover span {\n",
       "  display: inline-block;\n",
       "  background: var(--xr-background-color);\n",
       "  padding-right: 10px;\n",
       "}\n",
       "\n",
       ".xr-attrs dd {\n",
       "  grid-column: 2;\n",
       "  white-space: pre-wrap;\n",
       "  word-break: break-all;\n",
       "}\n",
       "\n",
       ".xr-icon-database,\n",
       ".xr-icon-file-text2 {\n",
       "  display: inline-block;\n",
       "  vertical-align: middle;\n",
       "  width: 1em;\n",
       "  height: 1.5em !important;\n",
       "  stroke-width: 0;\n",
       "  stroke: currentColor;\n",
       "  fill: currentColor;\n",
       "}\n",
       "</style><pre class='xr-text-repr-fallback'>&lt;xarray.DataArray (contribution: 4, t_gate: 512)&gt;\n",
       "array([[0.00000000e+00, 0.00000000e+00, 0.00000000e+00, ...,\n",
       "        0.00000000e+00, 0.00000000e+00, 0.00000000e+00],\n",
       "       [0.00000000e+00, 0.00000000e+00, 0.00000000e+00, ...,\n",
       "        0.00000000e+00, 0.00000000e+00, 0.00000000e+00],\n",
       "       [7.88893766e-44, 1.69048664e-43, 5.63495547e-44, ...,\n",
       "        2.96239577e-29, 2.91893573e-29, 2.87611326e-29],\n",
       "       [7.88893766e-44, 1.69048664e-43, 5.63495547e-44, ...,\n",
       "        2.96239577e-29, 2.91893573e-29, 2.87611326e-29]])\n",
       "Coordinates:\n",
       "    theta_inc     int64 0\n",
       "  * contribution  (contribution) &lt;U10 &#x27;surface&#x27; &#x27;interfaces&#x27; &#x27;volume&#x27; &#x27;total&#x27;\n",
       "  * t_gate        (t_gate) float64 0.0 3.125e-09 ... 1.594e-06 1.597e-06</pre><div class='xr-wrap' style='display:none'><div class='xr-header'><div class='xr-obj-type'>xarray.DataArray</div><div class='xr-array-name'></div><ul class='xr-dim-list'><li><span class='xr-has-index'>contribution</span>: 4</li><li><span class='xr-has-index'>t_gate</span>: 512</li></ul></div><ul class='xr-sections'><li class='xr-section-item'><div class='xr-array-wrap'><input id='section-737d0784-33a0-40af-b20f-7d01be81a124' class='xr-array-in' type='checkbox' checked><label for='section-737d0784-33a0-40af-b20f-7d01be81a124' title='Show/hide data repr'><svg class='icon xr-icon-database'><use xlink:href='#icon-database'></use></svg></label><div class='xr-array-preview xr-preview'><span>0.0 0.0 0.0 0.0 0.0 ... 3.007e-29 2.962e-29 2.919e-29 2.876e-29</span></div><div class='xr-array-data'><pre>array([[0.00000000e+00, 0.00000000e+00, 0.00000000e+00, ...,\n",
       "        0.00000000e+00, 0.00000000e+00, 0.00000000e+00],\n",
       "       [0.00000000e+00, 0.00000000e+00, 0.00000000e+00, ...,\n",
       "        0.00000000e+00, 0.00000000e+00, 0.00000000e+00],\n",
       "       [7.88893766e-44, 1.69048664e-43, 5.63495547e-44, ...,\n",
       "        2.96239577e-29, 2.91893573e-29, 2.87611326e-29],\n",
       "       [7.88893766e-44, 1.69048664e-43, 5.63495547e-44, ...,\n",
       "        2.96239577e-29, 2.91893573e-29, 2.87611326e-29]])</pre></div></div></li><li class='xr-section-item'><input id='section-b064f0f8-966c-4567-a21c-c4198a813fd5' class='xr-section-summary-in' type='checkbox'  checked><label for='section-b064f0f8-966c-4567-a21c-c4198a813fd5' class='xr-section-summary' >Coordinates: <span>(3)</span></label><div class='xr-section-inline-details'></div><div class='xr-section-details'><ul class='xr-var-list'><li class='xr-var-item'><div class='xr-var-name'><span>theta_inc</span></div><div class='xr-var-dims'>()</div><div class='xr-var-dtype'>int64</div><div class='xr-var-preview xr-preview'>0</div><input id='attrs-384d3aaa-34af-41f2-b0be-03aeba15d438' class='xr-var-attrs-in' type='checkbox' disabled><label for='attrs-384d3aaa-34af-41f2-b0be-03aeba15d438' title='Show/Hide attributes'><svg class='icon xr-icon-file-text2'><use xlink:href='#icon-file-text2'></use></svg></label><input id='data-a1f10927-4398-4f8e-9717-54066d6c8b70' class='xr-var-data-in' type='checkbox'><label for='data-a1f10927-4398-4f8e-9717-54066d6c8b70' title='Show/Hide data repr'><svg class='icon xr-icon-database'><use xlink:href='#icon-database'></use></svg></label><div class='xr-var-attrs'><dl class='xr-attrs'></dl></div><div class='xr-var-data'><pre>array(0)</pre></div></li><li class='xr-var-item'><div class='xr-var-name'><span class='xr-has-index'>contribution</span></div><div class='xr-var-dims'>(contribution)</div><div class='xr-var-dtype'>&lt;U10</div><div class='xr-var-preview xr-preview'>&#x27;surface&#x27; &#x27;interfaces&#x27; ... &#x27;total&#x27;</div><input id='attrs-f445594a-b403-4060-95b2-4c2c5ba4ddc8' class='xr-var-attrs-in' type='checkbox' disabled><label for='attrs-f445594a-b403-4060-95b2-4c2c5ba4ddc8' title='Show/Hide attributes'><svg class='icon xr-icon-file-text2'><use xlink:href='#icon-file-text2'></use></svg></label><input id='data-07daf429-6f2d-4f83-96d4-eb38287ce124' class='xr-var-data-in' type='checkbox'><label for='data-07daf429-6f2d-4f83-96d4-eb38287ce124' title='Show/Hide data repr'><svg class='icon xr-icon-database'><use xlink:href='#icon-database'></use></svg></label><div class='xr-var-attrs'><dl class='xr-attrs'></dl></div><div class='xr-var-data'><pre>array([&#x27;surface&#x27;, &#x27;interfaces&#x27;, &#x27;volume&#x27;, &#x27;total&#x27;], dtype=&#x27;&lt;U10&#x27;)</pre></div></li><li class='xr-var-item'><div class='xr-var-name'><span class='xr-has-index'>t_gate</span></div><div class='xr-var-dims'>(t_gate)</div><div class='xr-var-dtype'>float64</div><div class='xr-var-preview xr-preview'>0.0 3.125e-09 ... 1.597e-06</div><input id='attrs-72c20bfa-531c-42f8-ad8e-b6d4d4aae94f' class='xr-var-attrs-in' type='checkbox' disabled><label for='attrs-72c20bfa-531c-42f8-ad8e-b6d4d4aae94f' title='Show/Hide attributes'><svg class='icon xr-icon-file-text2'><use xlink:href='#icon-file-text2'></use></svg></label><input id='data-412daa6d-fe31-4aea-ba8a-0287bff5d060' class='xr-var-data-in' type='checkbox'><label for='data-412daa6d-fe31-4aea-ba8a-0287bff5d060' title='Show/Hide data repr'><svg class='icon xr-icon-database'><use xlink:href='#icon-database'></use></svg></label><div class='xr-var-attrs'><dl class='xr-attrs'></dl></div><div class='xr-var-data'><pre>array([0.000000e+00, 3.125000e-09, 6.250000e-09, ..., 1.590625e-06,\n",
       "       1.593750e-06, 1.596875e-06])</pre></div></li></ul></div></li><li class='xr-section-item'><input id='section-b31c26bb-8762-4557-8448-e0f5ffb9c8ac' class='xr-section-summary-in' type='checkbox' disabled ><label for='section-b31c26bb-8762-4557-8448-e0f5ffb9c8ac' class='xr-section-summary'  title='Expand/collapse section'>Attributes: <span>(0)</span></label><div class='xr-section-inline-details'></div><div class='xr-section-details'><dl class='xr-attrs'></dl></div></li></ul></div></div>"
      ],
      "text/plain": [
       "<xarray.DataArray (contribution: 4, t_gate: 512)>\n",
       "array([[0.00000000e+00, 0.00000000e+00, 0.00000000e+00, ...,\n",
       "        0.00000000e+00, 0.00000000e+00, 0.00000000e+00],\n",
       "       [0.00000000e+00, 0.00000000e+00, 0.00000000e+00, ...,\n",
       "        0.00000000e+00, 0.00000000e+00, 0.00000000e+00],\n",
       "       [7.88893766e-44, 1.69048664e-43, 5.63495547e-44, ...,\n",
       "        2.96239577e-29, 2.91893573e-29, 2.87611326e-29],\n",
       "       [7.88893766e-44, 1.69048664e-43, 5.63495547e-44, ...,\n",
       "        2.96239577e-29, 2.91893573e-29, 2.87611326e-29]])\n",
       "Coordinates:\n",
       "    theta_inc     int64 0\n",
       "  * contribution  (contribution) <U10 'surface' 'interfaces' 'volume' 'total'\n",
       "  * t_gate        (t_gate) float64 0.0 3.125e-09 ... 1.594e-06 1.597e-06"
      ]
     },
     "execution_count": 57,
     "metadata": {},
     "output_type": "execute_result"
    }
   ],
   "source": [
    "#show results in xarray format for more details. See the \"contribution\" dimension.\n",
    "result_with_returns.sigma()"
   ]
  },
  {
   "cell_type": "code",
   "execution_count": 58,
   "id": "c244cbe0",
   "metadata": {},
   "outputs": [
    {
     "data": {
      "image/png": "[encoded data removed]",
      "text/plain": [
       "<Figure size 720x432 with 1 Axes>"
      ]
     },
     "metadata": {
      "needs_background": "light"
     },
     "output_type": "display_data"
    }
   ],
   "source": [
    "plt.close()\n",
    "fig, ax = plt.subplots(nrows=1, ncols=1, figsize=(10,6))\n",
    "\n",
    "ax.plot(result_with_returns.t_gate*1e9, result_with_returns.sigma(contribution='total'), 'k-', linewidth=5, label='Total')\n",
    "ax.plot(result_with_returns.t_gate*1e9, result_with_returns.sigma(contribution='interfaces'), 'b+-', label='Interfaces')\n",
    "ax.plot(result_with_returns.t_gate*1e9, result_with_returns.sigma(contribution='surface'), 'c-', linewidth=3, label='Surface')\n",
    "ax.plot(result_with_returns.t_gate*1e9, result_with_returns.sigma(contribution='volume'), 'm--', linewidth=3, label='Volume')\n",
    "\n",
    "ax.legend()\n",
    "ax.set_xlabel('Time (ns)', size = 15)\n",
    "ax.set_ylabel('Backscatter ($\\sigma⁰$)', size = 15)\n",
    "plt.tight_layout()"
   ]
  },
  {
   "cell_type": "markdown",
   "id": "41b16fa1",
   "metadata": {},
   "source": [
    "Here, all interfaces are smooth and the signal is coming from volume scattering in the snow. Surfaces are rarely smooth though....\n",
    "\n",
    "Image below is from the AKROSS field campaign, showing roughness in both the surface and the underlying sea ice.\n"
   ]
  },
  {
   "cell_type": "code",
   "execution_count": 59,
   "id": "9c52b564",
   "metadata": {},
   "outputs": [
    {
     "data": {
      "text/html": [
       "<img src=\"IMG_1682.JPG\" width=\"500\" height=\"300\"/>"
      ],
      "text/plain": [
       "<IPython.core.display.Image object>"
      ]
     },
     "execution_count": 59,
     "metadata": {},
     "output_type": "execute_result"
    }
   ],
   "source": [
    "# import image module\n",
    "from IPython.display import Image\n",
    "  \n",
    "# get the image\n",
    "Image(url=\"IMG_1682.JPG\", width=500, height=300)"
   ]
  },
  {
   "cell_type": "markdown",
   "id": "18f66074",
   "metadata": {},
   "source": [
    "### Add in a rough interface at the snow surface\n",
    "\n",
    "For now, this will be the Geometrical Optics model"
   ]
  },
  {
   "cell_type": "code",
   "execution_count": 60,
   "id": "8bfda081",
   "metadata": {},
   "outputs": [],
   "source": [
    "rough_interface = make_interface(\"geometrical_optics_backscatter\", mean_square_slope=0.03)\n",
    "\n",
    "#surface parameter can be use in make_snowpack to define the surface interface\n",
    "rough_snow = make_snowpack(thickness=[0.1, 0.2], microstructure_model='exponential',\n",
    "                     ice_permittivity_model=ssp,density=[300, 350], \n",
    "                     corr_length=0.5e-4, temperature=260, salinity=[0.01, 0.06],\n",
    "                     surface=rough_interface)\n",
    "\n",
    "rough_surface_medium = rough_snow + ice"
   ]
  },
  {
   "cell_type": "markdown",
   "id": "31e84c2f",
   "metadata": {},
   "source": [
    "Run the model and see what this does to the return contribution"
   ]
  },
  {
   "cell_type": "code",
   "execution_count": 61,
   "id": "679c8721",
   "metadata": {},
   "outputs": [
    {
     "name": "stderr",
     "output_type": "stream",
     "text": [
      "/home/picardgh/MW/Microsnow/smrt/smrt/interface/geometrical_optics_backscatter.py:72: RuntimeWarning: divide by zero encountered in true_divide\n",
      "  gamma *= 1 / (1 + shadow_function(self.mean_square_slope, 1 / np.sqrt(tantheta_i2)))\n"
     ]
    }
   ],
   "source": [
    "rough_surf_result_with_returns = altimodel_with_returns.run(sensor, rough_surface_medium)\n",
    "#warning when using geo optic... because of incident angle = 0 for altimeter, Ignore warning..."
   ]
  },
  {
   "cell_type": "code",
   "execution_count": 62,
   "id": "3a65d57c",
   "metadata": {},
   "outputs": [
    {
     "data": {
      "image/png": "[encoded data removed]",
      "text/plain": [
       "<Figure size 720x432 with 1 Axes>"
      ]
     },
     "metadata": {
      "needs_background": "light"
     },
     "output_type": "display_data"
    }
   ],
   "source": [
    "plt.close()\n",
    "fig, ax = plt.subplots(nrows=1, ncols=1, figsize=(10,6))\n",
    "\n",
    "ax.plot(rough_surf_result_with_returns.t_gate*1e9, rough_surf_result_with_returns.sigma(contribution='total'), 'k-', linewidth=5, label='Total')\n",
    "ax.plot(rough_surf_result_with_returns.t_gate*1e9, rough_surf_result_with_returns.sigma(contribution='interfaces'), 'b+-', label='Interfaces')\n",
    "ax.plot(rough_surf_result_with_returns.t_gate*1e9, rough_surf_result_with_returns.sigma(contribution='surface'), 'c-', linewidth=3, label='Surface')\n",
    "ax.plot(rough_surf_result_with_returns.t_gate*1e9, rough_surf_result_with_returns.sigma(contribution='volume'), 'm--', linewidth=3, label='Volume')\n",
    "\n",
    "ax.legend()\n",
    "ax.set_xlabel('Time (ns)', size = 15)\n",
    "ax.set_ylabel('Backscatter ($\\sigma⁰$)', size = 15)\n",
    "plt.tight_layout()"
   ]
  },
  {
   "cell_type": "markdown",
   "id": "1bfd623f",
   "metadata": {},
   "source": [
    "The return is now dominated by the surface. The return from volume scattering is still of a similar order of magnitude as the previous smooth surface simulation - you can see this by printing out the largest amplitude of returns from the surface, there's just much more from the rough surface."
   ]
  },
  {
   "cell_type": "code",
   "execution_count": 63,
   "id": "6e4dfbf5",
   "metadata": {},
   "outputs": [
    {
     "data": {
      "text/plain": [
       "(array(4.70149917e-27), array(1.42212098e-29))"
      ]
     },
     "execution_count": 63,
     "metadata": {},
     "output_type": "execute_result"
    }
   ],
   "source": [
    "# Print out and compare results\n",
    "max(result_with_returns.sigma(contribution='volume')).values, max(rough_surf_result_with_returns.sigma(contribution='volume')).values"
   ]
  },
  {
   "cell_type": "markdown",
   "id": "c2752033",
   "metadata": {},
   "source": [
    "If you want to check how the medium is parameterised you can just print it out and look at the properties!"
   ]
  },
  {
   "cell_type": "code",
   "execution_count": 64,
   "id": "abda7f8d",
   "metadata": {},
   "outputs": [
    {
     "data": {
      "text/html": [
       "Snowpack: <div>\n",
       "<style scoped>\n",
       "    .dataframe tbody tr th:only-of-type {\n",
       "        vertical-align: middle;\n",
       "    }\n",
       "\n",
       "    .dataframe tbody tr th {\n",
       "        vertical-align: top;\n",
       "    }\n",
       "\n",
       "    .dataframe thead tr th {\n",
       "        text-align: left;\n",
       "    }\n",
       "</style>\n",
       "<table border=\"1\" class=\"dataframe\">\n",
       "  <thead>\n",
       "    <tr>\n",
       "      <th></th>\n",
       "      <th colspan=\"7\" halign=\"left\">layer</th>\n",
       "      <th colspan=\"3\" halign=\"left\">microstructure</th>\n",
       "      <th colspan=\"3\" halign=\"left\">interface</th>\n",
       "      <th>substrate</th>\n",
       "    </tr>\n",
       "    <tr>\n",
       "      <th></th>\n",
       "      <th>thickness</th>\n",
       "      <th>microstructure_model</th>\n",
       "      <th>density</th>\n",
       "      <th>temperature</th>\n",
       "      <th>liquid_water</th>\n",
       "      <th>salinity</th>\n",
       "      <th>ice_type</th>\n",
       "      <th>frac_volume</th>\n",
       "      <th>corr_length</th>\n",
       "      <th>radius</th>\n",
       "      <th>name</th>\n",
       "      <th>mean_square_slope</th>\n",
       "      <th>shadow_correction</th>\n",
       "      <th>name</th>\n",
       "    </tr>\n",
       "  </thead>\n",
       "  <tbody>\n",
       "    <tr>\n",
       "      <th>0</th>\n",
       "      <td>0.1</td>\n",
       "      <td>Exponential</td>\n",
       "      <td>300.0</td>\n",
       "      <td>260.0</td>\n",
       "      <td>0.0</td>\n",
       "      <td>0.010</td>\n",
       "      <td>None</td>\n",
       "      <td>0.327261</td>\n",
       "      <td>0.00005</td>\n",
       "      <td>--</td>\n",
       "      <td>GeometricalOpticsBackscatter</td>\n",
       "      <td>0.03</td>\n",
       "      <td>True</td>\n",
       "      <td>--</td>\n",
       "    </tr>\n",
       "    <tr>\n",
       "      <th>1</th>\n",
       "      <td>0.2</td>\n",
       "      <td>Exponential</td>\n",
       "      <td>350.0</td>\n",
       "      <td>260.0</td>\n",
       "      <td>0.0</td>\n",
       "      <td>0.060</td>\n",
       "      <td>None</td>\n",
       "      <td>0.381804</td>\n",
       "      <td>0.00005</td>\n",
       "      <td>--</td>\n",
       "      <td>Flat</td>\n",
       "      <td>--</td>\n",
       "      <td>None</td>\n",
       "      <td>--</td>\n",
       "    </tr>\n",
       "    <tr>\n",
       "      <th>2</th>\n",
       "      <td>2.0</td>\n",
       "      <td>IndependentSphere</td>\n",
       "      <td>910.0</td>\n",
       "      <td>260.0</td>\n",
       "      <td>--</td>\n",
       "      <td>0.032</td>\n",
       "      <td>firstyear</td>\n",
       "      <td>0.149222</td>\n",
       "      <td>--</td>\n",
       "      <td>0.001</td>\n",
       "      <td>Flat</td>\n",
       "      <td>--</td>\n",
       "      <td>None</td>\n",
       "      <td>--</td>\n",
       "    </tr>\n",
       "    <tr>\n",
       "      <th>s</th>\n",
       "      <td>--</td>\n",
       "      <td>--</td>\n",
       "      <td>--</td>\n",
       "      <td>--</td>\n",
       "      <td>--</td>\n",
       "      <td>--</td>\n",
       "      <td>--</td>\n",
       "      <td>--</td>\n",
       "      <td>--</td>\n",
       "      <td>--</td>\n",
       "      <td>--</td>\n",
       "      <td>--</td>\n",
       "      <td>--</td>\n",
       "      <td>Flat</td>\n",
       "    </tr>\n",
       "  </tbody>\n",
       "</table>\n",
       "</div>"
      ],
      "text/plain": [
       "Snowpack:       layer                                                                 \\\n",
       "  thickness microstructure_model density temperature liquid_water salinity   \n",
       "0       0.1          Exponential   300.0       260.0          0.0    0.010   \n",
       "1       0.2          Exponential   350.0       260.0          0.0    0.060   \n",
       "2       2.0    IndependentSphere   910.0       260.0          NaN    0.032   \n",
       "s       NaN                  NaN     NaN         NaN          NaN      NaN   \n",
       "\n",
       "             microstructure                                        interface  \\\n",
       "    ice_type    frac_volume corr_length radius                          name   \n",
       "0       None       0.327261     0.00005    NaN  GeometricalOpticsBackscatter   \n",
       "1       None       0.381804     0.00005    NaN                          Flat   \n",
       "2  firstyear       0.149222         NaN  0.001                          Flat   \n",
       "s        NaN            NaN         NaN    NaN                           NaN   \n",
       "\n",
       "                                      substrate  \n",
       "  mean_square_slope shadow_correction      name  \n",
       "0              0.03              True       NaN  \n",
       "1               NaN              None       NaN  \n",
       "2               NaN              None       NaN  \n",
       "s               NaN               NaN      Flat  "
      ]
     },
     "execution_count": 64,
     "metadata": {},
     "output_type": "execute_result"
    }
   ],
   "source": [
    "rough_surface_medium"
   ]
  },
  {
   "cell_type": "markdown",
   "id": "2bfa111f",
   "metadata": {},
   "source": [
    "### Make internal rough surface\n",
    "\n",
    "You can just copy the snowpack and substitute one of the interfaces for a rough one. We'll use the rough interface that we have already made and put it at the bottom of the medium. Interfaces, as with layers, are numbered from 0 at the top (-1 just references the last one). Interface index refer to the top interface of the layer index"
   ]
  },
  {
   "cell_type": "code",
   "execution_count": 65,
   "id": "38bcd427",
   "metadata": {},
   "outputs": [],
   "source": [
    "interface_snow = deepcopy(snow)\n",
    "#adding snow and ice together\n",
    "rough_base_medium = interface_snow + ice\n",
    "#set rough sea ice interface\n",
    "#by having snow and ice together the last interface becomes the sea ice surface.\n",
    "rough_base_medium.interfaces[-1] = rough_interface"
   ]
  },
  {
   "cell_type": "code",
   "execution_count": 66,
   "id": "4a872fa4",
   "metadata": {},
   "outputs": [
    {
     "name": "stderr",
     "output_type": "stream",
     "text": [
      "/home/picardgh/MW/Microsnow/smrt/smrt/interface/geometrical_optics_backscatter.py:72: RuntimeWarning: divide by zero encountered in true_divide\n",
      "  gamma *= 1 / (1 + shadow_function(self.mean_square_slope, 1 / np.sqrt(tantheta_i2)))\n"
     ]
    }
   ],
   "source": [
    "rough_base_result_with_returns = altimodel_with_returns.run(sensor, rough_base_medium)"
   ]
  },
  {
   "cell_type": "code",
   "execution_count": 67,
   "id": "0b953d96",
   "metadata": {},
   "outputs": [
    {
     "data": {
      "image/png": "[encoded data removed]",
      "text/plain": [
       "<Figure size 720x432 with 1 Axes>"
      ]
     },
     "metadata": {
      "needs_background": "light"
     },
     "output_type": "display_data"
    }
   ],
   "source": [
    "plt.close()\n",
    "fig, ax = plt.subplots(nrows=1, ncols=1, figsize=(10,6))\n",
    "\n",
    "ax.plot(rough_base_result_with_returns.t_gate*1e9, rough_base_result_with_returns.sigma(contribution='total'), 'k-', linewidth=5, label='Total')\n",
    "ax.plot(rough_base_result_with_returns.t_gate*1e9, rough_base_result_with_returns.sigma(contribution='interfaces'), 'b+-', label='Interfaces')\n",
    "ax.plot(rough_base_result_with_returns.t_gate*1e9, rough_base_result_with_returns.sigma(contribution='surface'), 'c-', linewidth=3, label='Surface')\n",
    "ax.plot(rough_base_result_with_returns.t_gate*1e9, rough_base_result_with_returns.sigma(contribution='volume'), 'm--', linewidth=3, label='Volume')\n",
    "\n",
    "ax.legend()\n",
    "ax.set_xlabel('Time (ns)', size = 15)\n",
    "ax.set_ylabel('Backscatter ($\\sigma⁰$)', size = 15)\n",
    "plt.tight_layout()"
   ]
  },
  {
   "cell_type": "markdown",
   "id": "c79e6d3d",
   "metadata": {},
   "source": [
    "Now the altimeter waveform is dominated by scattering from the interfaces i.e. the snow-sea ice interface.\n",
    "\n",
    "\n",
    "### Further investigations\n",
    "\n",
    "1. Increase the number of layers in the snowpack and see what happens when you put a rough interface between snow layers\n",
    "\n",
    "2. Try re-running the simulations with an airborne sensor e.g. importing the asiras_lam from altimeter_list. How does the waveform change?\n",
    "\n",
    "3. Look at the IEM roughness model - where might you use IEM instead of the Geometrical Optics model (tip: frequency)\n",
    "\n",
    "4. How does the waveform change with snow salinity?\n",
    "\n"
   ]
  },
  {
   "cell_type": "code",
   "execution_count": null,
   "id": "c626d83a",
   "metadata": {},
   "outputs": [],
   "source": []
  },
  {
   "cell_type": "code",
   "execution_count": null,
   "id": "6e76c4d4-d6b8-480c-b235-3e607c587a14",
   "metadata": {},
   "outputs": [],
   "source": []
  }
 ],
 "metadata": {
  "kernelspec": {
   "display_name": "Python (smrt)",
   "language": "python",
   "name": "smrt"
  },
  "language_info": {
   "codemirror_mode": {
    "name": "ipython",
    "version": 3
   },
   "file_extension": ".py",
   "mimetype": "text/x-python",
   "name": "python",
   "nbconvert_exporter": "python",
   "pygments_lexer": "ipython3",
   "version": "3.9.16"
  }
 },
 "nbformat": 4,
 "nbformat_minor": 5
}
