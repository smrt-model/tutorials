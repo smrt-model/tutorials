{
 "cells": [
  {
   "cell_type": "markdown",
   "id": "4d2db71e",
   "metadata": {},
   "source": [
    "# Nadir Altimeter in Low Resolution Mode for sea-ice tutorial\n",
    "\n",
    "more info, see Larue et al 2021, https://doi.org/10.1016/j.rse.2021.112534\n",
    " \n",
    "**Goal**:\n",
    "- Simulate altimeter waveform\n",
    "- Output where contributions are coming from (surface vs interfaces vs volume)\n",
    "- Include interface roughness\n",
    "\n",
    "**Learning**:\n",
    "\n",
    "This tutorial will help you use the following modules\n",
    "- nadir_lrm_altimetry solver\n",
    "- interface.geometrical_optics_backscatter module\n",
    "- altimeter_list sensors\n",
    "\n",
    "First, we import the necessary modules"
   ]
  },
  {
   "cell_type": "code",
   "execution_count": null,
   "id": "46a0ec61",
   "metadata": {},
   "outputs": [],
   "source": [
    "# Standard imports\n",
    "import numpy as np\n",
    "import matplotlib.pyplot as plt\n",
    "from copy import deepcopy\n",
    "\n",
    "from smrt import make_snowpack, make_ice_column, make_model, make_interface, PSU\n",
    "from smrt.inputs import altimeter_list\n",
    "\n",
    "from smrt.permittivity.saline_snow import saline_snow_permittivity_scharien_with_stogryn95 as ssp\n"
   ]
  },
  {
   "cell_type": "markdown",
   "id": "74f17e02",
   "metadata": {},
   "source": [
    "### Let's create a two layer snowpack on top of a sea ice layer\n",
    "\n",
    "We'll allow the snow to be saline and use the Scharien permittivity formulation imported as ssp above. This is because the SMRT default permittivity for snow (wetice_permittivity_bohren83) doesn't depend on salinity.\n",
    "\n",
    "Salinity can also specified using PSU unit (4 * PSU). Dont forget to import PSU unit from globalconstant. (see above)\n",
    "\n",
    "As we have not yet specified the interfaces, all interfaces are assumed to be flat.\n"
   ]
  },
  {
   "cell_type": "code",
   "execution_count": null,
   "id": "f2ed390e",
   "metadata": {},
   "outputs": [],
   "source": [
    "# specified ice permittivity model of snow with ssp\n",
    "snow = make_snowpack(thickness=[0.1, 0.2], microstructure_model='exponential',\n",
    "                     ice_permittivity_model=ssp,density=[300, 350], \n",
    "                     corr_length=0.5e-4, temperature=260, salinity=[0.001, 0.006] )\n",
    "\n",
    "#specfied ice type (firstyear or multiyear)\n",
    "ice = make_ice_column(ice_type='firstyear',\n",
    "                    thickness=[2], temperature=260, \n",
    "                    microstructure_model='independent_sphere',\n",
    "                    radius=1e-3,\n",
    "                    brine_inclusion_shape='spheres',\n",
    "                    density=910,\n",
    "                    salinity=8*PSU,\n",
    "                    add_water_substrate=True)\n",
    "\n",
    "medium = snow + ice"
   ]
  },
  {
   "cell_type": "markdown",
   "id": "7b3c068c",
   "metadata": {},
   "source": [
    "### Specify sensor\n",
    "\n",
    "There are a number of altimeter sensors in altimeter_list. We'll use CryoSat-2 in SIN mode."
   ]
  },
  {
   "cell_type": "code",
   "execution_count": null,
   "id": "512246fd",
   "metadata": {},
   "outputs": [],
   "source": [
    "sensor = altimeter_list.cryosat2_sin()"
   ]
  },
  {
   "cell_type": "markdown",
   "id": "1185e96f",
   "metadata": {},
   "source": [
    "### Configure SMRT model\n",
    "\n",
    "Use the Improved Born Approximation electromagnetic model and the LRM altimeter solver"
   ]
  },
  {
   "cell_type": "code",
   "execution_count": null,
   "id": "79be8ab7",
   "metadata": {},
   "outputs": [],
   "source": [
    "altimodel = make_model(\"iba\", \"nadir_lrm_altimetry\")"
   ]
  },
  {
   "cell_type": "markdown",
   "id": "374a9687",
   "metadata": {},
   "source": [
    "### Run SMRT\n",
    "\n",
    "and plot altimeter waveform"
   ]
  },
  {
   "cell_type": "code",
   "execution_count": null,
   "id": "79b530e8",
   "metadata": {},
   "outputs": [],
   "source": [
    "result = altimodel.run(sensor, medium)"
   ]
  },
  {
   "cell_type": "code",
   "execution_count": null,
   "id": "69b72459",
   "metadata": {},
   "outputs": [],
   "source": [
    "plt.close()\n",
    "fig, ax = plt.subplots(nrows=1, ncols=1, figsize=(10,6))\n",
    "\n",
    "#time is in nano seconds, 1 bins = 3.125 ns for Cryosat. Check other sensor specs in altimeter_list\n",
    "ax.plot(result.t_gate*1e9, result.sigma(), 'k--')\n",
    "\n",
    "ax.set_xlabel('Time (ns)', size = 15)\n",
    "ax.set_ylabel('Backscatter ($\\sigma⁰$)', size = 15)\n",
    "plt.tight_layout()"
   ]
  },
  {
   "cell_type": "markdown",
   "id": "e314bef5",
   "metadata": {},
   "source": [
    "The initial sharp rise is called the leading edge, and is often used as the basis for retracker algorithms to calculate the ice freeboard. The descending curve is the trailing edge.\n",
    "\n",
    "Let's see where the radar echo is coming from. For this, we'll need to specify a radiative transfer option when configuring SMRT to keep track of the contributions."
   ]
  },
  {
   "cell_type": "code",
   "execution_count": null,
   "id": "39f1606f",
   "metadata": {},
   "outputs": [],
   "source": [
    "altimodel_with_returns = make_model(\"iba\", \"nadir_lrm_altimetry\", rtsolver_options=dict(return_contributions=True))"
   ]
  },
  {
   "cell_type": "markdown",
   "id": "285390a7",
   "metadata": {},
   "source": [
    "#### Re-run the model and replot the graph showing individual contributions"
   ]
  },
  {
   "cell_type": "code",
   "execution_count": null,
   "id": "eaf6c66c",
   "metadata": {},
   "outputs": [],
   "source": [
    "result_with_returns = altimodel_with_returns.run(sensor, medium)"
   ]
  },
  {
   "cell_type": "code",
   "execution_count": null,
   "id": "4e665d4b-b0f4-4e34-9243-669e78d173dd",
   "metadata": {},
   "outputs": [],
   "source": [
    "#show results in xarray format for more details. See the \"contribution\" dimension.\n",
    "result_with_returns.sigma()"
   ]
  },
  {
   "cell_type": "code",
   "execution_count": null,
   "id": "c244cbe0",
   "metadata": {},
   "outputs": [],
   "source": [
    "plt.close()\n",
    "fig, ax = plt.subplots(nrows=1, ncols=1, figsize=(10,6))\n",
    "\n",
    "ax.plot(result_with_returns.t_gate*1e9, result_with_returns.sigma(contribution='total'), 'k-', linewidth=5, label='Total')\n",
    "ax.plot(result_with_returns.t_gate*1e9, result_with_returns.sigma(contribution='interfaces'), 'b+-', label='Interfaces')\n",
    "ax.plot(result_with_returns.t_gate*1e9, result_with_returns.sigma(contribution='surface'), 'c-', linewidth=3, label='Surface')\n",
    "ax.plot(result_with_returns.t_gate*1e9, result_with_returns.sigma(contribution='volume'), 'm--', linewidth=3, label='Volume')\n",
    "\n",
    "ax.legend()\n",
    "ax.set_xlabel('Time (ns)', size = 15)\n",
    "ax.set_ylabel('Backscatter ($\\sigma⁰$)', size = 15)\n",
    "plt.tight_layout()"
   ]
  },
  {
   "cell_type": "markdown",
   "id": "41b16fa1",
   "metadata": {},
   "source": [
    "Here, all interfaces are smooth and the signal is coming from volume scattering in the snow. Surfaces are rarely smooth though....\n",
    "\n",
    "Image below is from the AKROSS field campaign, showing roughness in both the surface and the underlying sea ice.\n"
   ]
  },
  {
   "cell_type": "code",
   "execution_count": null,
   "id": "9c52b564",
   "metadata": {},
   "outputs": [],
   "source": [
    "# import image module\n",
    "from IPython.display import Image\n",
    "  \n",
    "# get the image\n",
    "Image(url=\"IMG_1682.JPG\", width=500, height=300)"
   ]
  },
  {
   "cell_type": "markdown",
   "id": "18f66074",
   "metadata": {},
   "source": [
    "### Add in a rough interface at the snow surface\n",
    "\n",
    "For now, this will be the Geometrical Optics model"
   ]
  },
  {
   "cell_type": "code",
   "execution_count": null,
   "id": "8bfda081",
   "metadata": {},
   "outputs": [],
   "source": [
    "rough_interface = make_interface(\"geometrical_optics_backscatter\", mean_square_slope=0.03)\n",
    "\n",
    "#surface parameter can be use in make_snowpack to define the surface interface\n",
    "rough_snow = make_snowpack(thickness=[0.1, 0.2], microstructure_model='exponential',\n",
    "                     ice_permittivity_model=ssp,density=[300, 350], \n",
    "                     corr_length=0.5e-4, temperature=260, salinity=[0.01, 0.06],\n",
    "                     surface=rough_interface)\n",
    "\n",
    "rough_surface_medium = rough_snow + ice"
   ]
  },
  {
   "cell_type": "markdown",
   "id": "31e84c2f",
   "metadata": {},
   "source": [
    "Run the model and see what this does to the return contribution"
   ]
  },
  {
   "cell_type": "code",
   "execution_count": null,
   "id": "679c8721",
   "metadata": {},
   "outputs": [],
   "source": [
    "rough_surf_result_with_returns = altimodel_with_returns.run(sensor, rough_surface_medium)\n",
    "#warning when using geo optic... because of incident angle = 0 for altimeter, Ignore warning..."
   ]
  },
  {
   "cell_type": "code",
   "execution_count": null,
   "id": "3a65d57c",
   "metadata": {},
   "outputs": [],
   "source": [
    "plt.close()\n",
    "fig, ax = plt.subplots(nrows=1, ncols=1, figsize=(10,6))\n",
    "\n",
    "ax.plot(rough_surf_result_with_returns.t_gate*1e9, rough_surf_result_with_returns.sigma(contribution='total'), 'k-', linewidth=5, label='Total')\n",
    "ax.plot(rough_surf_result_with_returns.t_gate*1e9, rough_surf_result_with_returns.sigma(contribution='interfaces'), 'b+-', label='Interfaces')\n",
    "ax.plot(rough_surf_result_with_returns.t_gate*1e9, rough_surf_result_with_returns.sigma(contribution='surface'), 'c-', linewidth=3, label='Surface')\n",
    "ax.plot(rough_surf_result_with_returns.t_gate*1e9, rough_surf_result_with_returns.sigma(contribution='volume'), 'm--', linewidth=3, label='Volume')\n",
    "\n",
    "ax.legend()\n",
    "ax.set_xlabel('Time (ns)', size = 15)\n",
    "ax.set_ylabel('Backscatter ($\\sigma⁰$)', size = 15)\n",
    "plt.tight_layout()"
   ]
  },
  {
   "cell_type": "markdown",
   "id": "1bfd623f",
   "metadata": {},
   "source": [
    "The return is now dominated by the surface. The return from volume scattering is still of a similar order of magnitude as the previous smooth surface simulation - you can see this by printing out the largest amplitude of returns from the surface, there's just much more from the rough surface."
   ]
  },
  {
   "cell_type": "code",
   "execution_count": null,
   "id": "6e4dfbf5",
   "metadata": {},
   "outputs": [],
   "source": [
    "# Print out and compare results\n",
    "max(result_with_returns.sigma(contribution='volume')).values, max(rough_surf_result_with_returns.sigma(contribution='volume')).values"
   ]
  },
  {
   "cell_type": "markdown",
   "id": "c2752033",
   "metadata": {},
   "source": [
    "If you want to check how the medium is parameterised you can just print it out and look at the properties!"
   ]
  },
  {
   "cell_type": "code",
   "execution_count": null,
   "id": "abda7f8d",
   "metadata": {},
   "outputs": [],
   "source": [
    "rough_surface_medium"
   ]
  },
  {
   "cell_type": "markdown",
   "id": "2bfa111f",
   "metadata": {},
   "source": [
    "### Make internal rough surface\n",
    "\n",
    "You can just copy the snowpack and substitute one of the interfaces for a rough one. We'll use the rough interface that we have already made and put it at the bottom of the medium. Interfaces, as with layers, are numbered from 0 at the top (-1 just references the last one). Interface index refer to the top interface of the layer index"
   ]
  },
  {
   "cell_type": "code",
   "execution_count": null,
   "id": "38bcd427",
   "metadata": {},
   "outputs": [],
   "source": [
    "interface_snow = deepcopy(snow)\n",
    "#adding snow and ice together\n",
    "rough_base_medium = interface_snow + ice\n",
    "#set rough sea ice interface\n",
    "#by having snow and ice together the last interface becomes the sea ice surface.\n",
    "rough_base_medium.interfaces[-1] = rough_interface"
   ]
  },
  {
   "cell_type": "code",
   "execution_count": null,
   "id": "4a872fa4",
   "metadata": {},
   "outputs": [],
   "source": [
    "rough_base_result_with_returns = altimodel_with_returns.run(sensor, rough_base_medium)"
   ]
  },
  {
   "cell_type": "code",
   "execution_count": null,
   "id": "0b953d96",
   "metadata": {},
   "outputs": [],
   "source": [
    "plt.close()\n",
    "fig, ax = plt.subplots(nrows=1, ncols=1, figsize=(10,6))\n",
    "\n",
    "ax.plot(rough_base_result_with_returns.t_gate*1e9, rough_base_result_with_returns.sigma(contribution='total'), 'k-', linewidth=5, label='Total')\n",
    "ax.plot(rough_base_result_with_returns.t_gate*1e9, rough_base_result_with_returns.sigma(contribution='interfaces'), 'b+-', label='Interfaces')\n",
    "ax.plot(rough_base_result_with_returns.t_gate*1e9, rough_base_result_with_returns.sigma(contribution='surface'), 'c-', linewidth=3, label='Surface')\n",
    "ax.plot(rough_base_result_with_returns.t_gate*1e9, rough_base_result_with_returns.sigma(contribution='volume'), 'm--', linewidth=3, label='Volume')\n",
    "\n",
    "ax.legend()\n",
    "ax.set_xlabel('Time (ns)', size = 15)\n",
    "ax.set_ylabel('Backscatter ($\\sigma⁰$)', size = 15)\n",
    "plt.tight_layout()"
   ]
  },
  {
   "cell_type": "markdown",
   "id": "c79e6d3d",
   "metadata": {},
   "source": [
    "Now the altimeter waveform is dominated by scattering from the interfaces i.e. the snow-sea ice interface.\n",
    "\n",
    "\n",
    "### Further investigations\n",
    "\n",
    "1. Increase the number of layers in the snowpack and see what happens when you put a rough interface between snow layers\n",
    "\n",
    "2. Try re-running the simulations with an airborne sensor e.g. importing the asiras_lam from altimeter_list. How does the waveform change?\n",
    "\n",
    "3. Look at the IEM roughness model - where might you use IEM instead of the Geometrical Optics model (tip: frequency)\n",
    "\n",
    "4. How does the waveform change with snow salinity?\n",
    "\n"
   ]
  },
  {
   "cell_type": "code",
   "execution_count": null,
   "id": "c626d83a",
   "metadata": {},
   "outputs": [],
   "source": []
  },
  {
   "cell_type": "code",
   "execution_count": null,
   "id": "6e76c4d4-d6b8-480c-b235-3e607c587a14",
   "metadata": {},
   "outputs": [],
   "source": []
  }
 ],
 "metadata": {
  "kernelspec": {
   "display_name": "Python (smrt)",
   "language": "python",
   "name": "smrt"
  },
  "language_info": {
   "codemirror_mode": {
    "name": "ipython",
    "version": 3
   },
   "file_extension": ".py",
   "mimetype": "text/x-python",
   "name": "python",
   "nbconvert_exporter": "python",
   "pygments_lexer": "ipython3",
   "version": "3.10.12"
  }
 },
 "nbformat": 4,
 "nbformat_minor": 5
}
