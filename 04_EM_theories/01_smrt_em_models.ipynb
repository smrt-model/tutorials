{
 "cells": [
  {
   "cell_type": "markdown",
   "metadata": {},
   "source": [
    "Comparison of electromagnetic model\n",
    "=========================================\n",
    "\n",
    "__Goal__:\n",
    " Run SMRT for different electromagnetic theories in two contexts:\n",
    "\n",
    " - with sticky_hard_spheres microstructure, it is possible to compare iba, dmrt_qca_shortrange, dmrt_qcacp_shortrange and rayleigh\n",
    " - with exponential microstructure, it is possible to compare iba and sft_rayleigh\n",
    "  \n",
    "In this exercise, run SMRT for a snowpack with varying radius for the different electromagnetic theories. Plot the result as a function of radius (see sensitivity_study tutorial).\n",
    "\n",
    "__Learning__: \n",
    " \n",
    " - In a second step, we'll learn how to compute scattering coefficient, without running the full model\n",
    "\n"
   ]
  },
  {
   "cell_type": "code",
   "execution_count": 1,
   "metadata": {},
   "outputs": [],
   "source": [
    "import numpy as np\n",
    "\n",
    "import matplotlib.pyplot as plt\n",
    "%matplotlib notebook\n",
    "\n",
    "from smrt import make_model, make_snowpack, sensor_list"
   ]
  },
  {
   "cell_type": "markdown",
   "metadata": {},
   "source": [
    "Electromagnetic models compatible with spheres\n",
    "----------------------------------------------------------------------"
   ]
  },
  {
   "cell_type": "code",
   "execution_count": 2,
   "metadata": {},
   "outputs": [],
   "source": [
    "# prepare the snowpack\n",
    "\n",
    "thickness = [10]\n",
    "density = 350\n",
    "temperature = 270\n",
    "stickiness = 0.15\n",
    "\n",
    "radius_list = np.arange(50, 400, 10) * 1e-6\n",
    "\n",
    "snowpack_list = [make_snowpack(thickness=thickness, microstructure_model='sticky_hard_spheres',\n",
    "                   radius=r, density=density, temperature=temperature, stickiness=stickiness) for r in radius_list]"
   ]
  },
  {
   "cell_type": "code",
   "execution_count": 3,
   "metadata": {},
   "outputs": [],
   "source": [
    "# prepare the sensor\n",
    "sensor = sensor_list.passive(37e9, 55)"
   ]
  },
  {
   "cell_type": "code",
   "execution_count": 4,
   "metadata": {},
   "outputs": [],
   "source": [
    "# prepare several models\n",
    "\n",
    "m_iba = make_model(\"iba\", \"dort\")\n",
    "m_dmrt_qca = make_model(\"dmrt_qca_shortrange\", \"dort\")\n",
    "# continue by adding more model, runing and ploting the results as in sensitivity_study"
   ]
  },
  {
   "cell_type": "markdown",
   "metadata": {},
   "source": [
    "Electromagnetic models compatible with exponential microstructure\n",
    "----------------------------------------------------------------------\n",
    "\n",
    "At the moment only iba and sft_rayleigh can run with exponential microstructure."
   ]
  },
  {
   "cell_type": "code",
   "execution_count": 5,
   "metadata": {},
   "outputs": [],
   "source": [
    "# prepare the snowpack\n",
    "\n",
    "thickness = [1000.0]\n",
    "density = 350\n",
    "temperature = 270\n",
    "\n",
    "corr_length_list = np.arange(20, 200, 10) * 1e-6\n",
    "\n",
    "snowpack_list = [make_snowpack(thickness=thickness, microstructure_model='exponential',\n",
    "                   corr_length=c, density=density, temperature=temperature) for c in corr_length_list]"
   ]
  },
  {
   "cell_type": "code",
   "execution_count": 6,
   "metadata": {},
   "outputs": [],
   "source": [
    "m_iba = make_model(\"iba\", \"dort\")\n",
    "m_slf = make_model(\"sft_rayleigh\", \"dort\")"
   ]
  },
  {
   "cell_type": "code",
   "execution_count": 7,
   "metadata": {},
   "outputs": [],
   "source": [
    "# continue with running these models and plotting the results as before"
   ]
  },
  {
   "cell_type": "code",
   "execution_count": 8,
   "metadata": {},
   "outputs": [
    {
     "data": {
      "text/plain": [
       "<smrt.core.result.Result at 0x7f78895443c8>"
      ]
     },
     "execution_count": 8,
     "metadata": {},
     "output_type": "execute_result"
    }
   ],
   "source": [
    "m_slf.run(sensor, snowpack_list)"
   ]
  },
  {
   "cell_type": "markdown",
   "metadata": {},
   "source": [
    "Computing scattering coefficient\n",
    "--------------------------------------\n",
    "Running the full model is interesting but sometimes we only want the scattering coefficient (or absorption coefficient). There are two ways to get it.\n",
    "First option is the access the \"emmodel\" attribute of the model and run it on a layer (not on a snowpack)\n"
   ]
  },
  {
   "cell_type": "code",
   "execution_count": 9,
   "metadata": {},
   "outputs": [
    {
     "data": {
      "text/plain": [
       "0.0018988807212606223"
      ]
     },
     "execution_count": 9,
     "metadata": {},
     "output_type": "execute_result"
    }
   ],
   "source": [
    "firstlayer = snowpack_list[0].layers[0]  # this is the first layer of the first snowpack\n",
    "\n",
    "m_iba.emmodel(sensor, firstlayer).ks"
   ]
  },
  {
   "cell_type": "code",
   "execution_count": 10,
   "metadata": {},
   "outputs": [
    {
     "data": {
      "text/plain": [
       "Text(0, 0.5, 'Scattering coefficient (m$^{-1}$)')"
      ]
     },
     "execution_count": 10,
     "metadata": {},
     "output_type": "execute_result"
    },
    {
     "data": {
      "image/png": "[encoded data removed]",
      "text/plain": [
       "<Figure size 432x288 with 1 Axes>"
      ]
     },
     "metadata": {
      "needs_background": "light"
     },
     "output_type": "display_data"
    }
   ],
   "source": [
    "#to compute ks of all snowpack a simple\n",
    "\n",
    "ks_iba = [m_iba.emmodel(sensor, sp.layers[0]).ks for sp in snowpack_list]\n",
    "plt.figure()\n",
    "plt.plot(corr_length_list*1e6, ks_iba)\n",
    "plt.xlabel(\"Correlation length ($\\mu$m)\")\n",
    "plt.ylabel(\"Scattering coefficient (m$^{-1}$)\")"
   ]
  },
  {
   "cell_type": "markdown",
   "metadata": {},
   "source": [
    "\n",
    "Second option is without the overhead of make_model. It is simpler when the full model is not needed"
   ]
  },
  {
   "cell_type": "code",
   "execution_count": 11,
   "metadata": {},
   "outputs": [],
   "source": [
    "# need a new import\n",
    "from smrt import make_emmodel"
   ]
  },
  {
   "cell_type": "code",
   "execution_count": 12,
   "metadata": {},
   "outputs": [
    {
     "data": {
      "text/plain": [
       "0.0018988807212606223"
      ]
     },
     "execution_count": 12,
     "metadata": {},
     "output_type": "execute_result"
    }
   ],
   "source": [
    "# then, make the EM model\n",
    "em_iba = make_emmodel(\"iba\", sensor, firstlayer)\n",
    "# get ks\n",
    "em_iba.ks"
   ]
  }
 ],
 "metadata": {
  "hide_input": false,
  "kernelspec": {
   "display_name": "Python 3 (ipykernel)",
   "language": "python",
   "name": "python3"
  },
  "language_info": {
   "codemirror_mode": {
    "name": "ipython",
    "version": 3
   },
   "file_extension": ".py",
   "mimetype": "text/x-python",
   "name": "python",
   "nbconvert_exporter": "python",
   "pygments_lexer": "ipython3",
   "version": "3.10.10"
  },
  "nav_menu": {},
  "toc": {
   "navigate_menu": true,
   "number_sections": true,
   "sideBar": true,
   "threshold": 6,
   "toc_cell": false,
   "toc_section_display": "block",
   "toc_window_display": false
  },
  "varInspector": {
   "cols": {
    "lenName": 16,
    "lenType": 16,
    "lenVar": 40
   },
   "kernels_config": {
    "python": {
     "delete_cmd_postfix": "",
     "delete_cmd_prefix": "del ",
     "library": "var_list.py",
     "varRefreshCmd": "print(var_dic_list())"
    },
    "r": {
     "delete_cmd_postfix": ") ",
     "delete_cmd_prefix": "rm(",
     "library": "var_list.r",
     "varRefreshCmd": "cat(var_dic_list()) "
    }
   },
   "types_to_exclude": [
    "module",
    "function",
    "builtin_function_or_method",
    "instance",
    "_Feature"
   ],
   "window_display": false
  }
 },
 "nbformat": 4,
 "nbformat_minor": 4
}
