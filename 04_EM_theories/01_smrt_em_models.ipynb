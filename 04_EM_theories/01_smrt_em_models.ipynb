{
 "cells": [
  {
   "cell_type": "markdown",
   "metadata": {},
   "source": [
    "Comparison of electromagnetic models\n",
    "=========================================\n",
    "\n",
    "__Goal__:\n",
    "\n",
    " Run and compare SMRT for different electromagnetic theories. Some of the theories can be used only\n",
    " with sphere microstructures (qca, qcacp, rayleigh), others only with exponential microstructures (sft_rayleigh) and others can be combined with any microstructure model (iba and different variants of sce)\n",
    " \n",
    " To this end we create two ensembles of snowpacks with varying size parameter:\n",
    "\n",
    " - One snowpack made of a sticky_hard_spheres microstructure with varyin radius. Here it is possible to compare iba, dmrt_qca_shortrange, dmrt_qcacp_shortrange, rayleigh and different variants of sce\n",
    " - Another snowpack made of an exponential microstructure with varying correlation length. Here only iba, sft_rayleigh and variants of sce can be compared.\n",
    "  \n",
    "Run SMRT for the different snowpacks and compare the electromagnetic theories. Plot the result as a function of radius (see sensitivity_study tutorial).\n",
    "\n",
    "__Learning__: \n",
    " \n",
    " - Understand which electromagnetic models can be used with what kind of microstructure\n",
    " - Learn how to compute scattering coefficient, without running the full model\n",
    "\n"
   ]
  },
  {
   "cell_type": "code",
   "execution_count": null,
   "metadata": {},
   "outputs": [],
   "source": [
    "import numpy as np\n",
    "\n",
    "import matplotlib.pyplot as plt\n",
    "%matplotlib notebook\n",
    "\n",
    "from smrt import make_model, make_snowpack, sensor_list"
   ]
  },
  {
   "cell_type": "markdown",
   "metadata": {},
   "source": [
    "Electromagnetic models compatible with spheres\n",
    "----------------------------------------------------------------------"
   ]
  },
  {
   "cell_type": "markdown",
   "metadata": {},
   "source": [
    "First we create an ensemble of snowpacks initialized with the sticky hard sphere (shs) microstructure of different radii"
   ]
  },
  {
   "cell_type": "code",
   "execution_count": null,
   "metadata": {},
   "outputs": [],
   "source": [
    "# prepare the snowpack\n",
    "\n",
    "thickness = [10]\n",
    "density = 350\n",
    "temperature = 270\n",
    "stickiness = 0.15\n",
    "radius_list = np.arange(50, 400, 10) * 1e-6\n",
    "\n",
    "snowpack_list_shs = [make_snowpack(thickness=thickness, microstructure_model='sticky_hard_spheres',\n",
    "                   radius=r, density=density, temperature=temperature, stickiness=stickiness) for r in radius_list]"
   ]
  },
  {
   "cell_type": "markdown",
   "metadata": {},
   "source": [
    "Now we create electromagnetic models which are only compatible with sphere microstructures"
   ]
  },
  {
   "cell_type": "code",
   "execution_count": null,
   "metadata": {},
   "outputs": [],
   "source": [
    "# prepare several models\n",
    "\n",
    "m_dmrt_qca = make_model(\"dmrt_qca_shortrange\", \"dort\")\n",
    "m_dmrt_qcacp = make_model(\"dmrt_qcacp_shortrange\", \"dort\")\n",
    "\n",
    "# continue by adding more model, runing and ploting the results as in sensitivity_study"
   ]
  },
  {
   "cell_type": "markdown",
   "metadata": {},
   "source": [
    "Electromagnetic models compatible with exponential microstructure\n",
    "----------------------------------------------------------------------\n",
    "\n"
   ]
  },
  {
   "cell_type": "markdown",
   "metadata": {},
   "source": [
    "Next we create an ensemble of snowpacks initialized with an exponential (exp) microstructure of different correlation lengths"
   ]
  },
  {
   "cell_type": "code",
   "execution_count": null,
   "metadata": {},
   "outputs": [],
   "source": [
    "# prepare the snowpack\n",
    "\n",
    "thickness = [1000.0]\n",
    "density = 350\n",
    "temperature = 270\n",
    "\n",
    "corr_length_list = np.arange(20, 200, 10) * 1e-6\n",
    "\n",
    "snowpack_list_exp = [make_snowpack(thickness=thickness, microstructure_model='exponential',\n",
    "                   corr_length=c, density=density, temperature=temperature) for c in corr_length_list]"
   ]
  },
  {
   "cell_type": "markdown",
   "metadata": {},
   "source": [
    "and create electromagnetic models which are compatible with exponential microstructures. Some of them are more flexible and can be also used with the other snowpack made of spheres (explore)"
   ]
  },
  {
   "cell_type": "code",
   "execution_count": null,
   "metadata": {},
   "outputs": [],
   "source": [
    "m_iba = make_model(\"iba\", \"dort\")\n",
    "m_sce = make_model(\"sce_rechtsman08\", \"dort\")\n",
    "m_sft = make_model(\"sft_rayleigh\", \"dort\")\n"
   ]
  },
  {
   "cell_type": "code",
   "execution_count": null,
   "metadata": {},
   "outputs": [],
   "source": [
    "# continue with running these models and plotting the results as before"
   ]
  },
  {
   "cell_type": "code",
   "execution_count": null,
   "metadata": {},
   "outputs": [],
   "source": [
    "# prepare the sensor\n",
    "sensor = sensor_list.passive(37e9, 55)"
   ]
  },
  {
   "cell_type": "code",
   "execution_count": null,
   "metadata": {},
   "outputs": [],
   "source": [
    "# run the model\n",
    "m_sft.run(sensor, snowpack_list_exp)"
   ]
  },
  {
   "cell_type": "markdown",
   "metadata": {},
   "source": [
    "Computing scattering coefficient\n",
    "--------------------------------------\n",
    "Running the full model is interesting but sometimes we only want the scattering coefficient (or absorption coefficient). There are two ways to get it.\n",
    "First option is the access the \"emmodel\" attribute of the model and run it on a layer (not on a snowpack)\n"
   ]
  },
  {
   "cell_type": "code",
   "execution_count": null,
   "metadata": {},
   "outputs": [],
   "source": [
    "firstlayer = snowpack_list_exp[0].layers[0]  # this is the first layer of the first snowpack\n",
    "\n",
    "m_iba.emmodel(sensor, firstlayer).ks"
   ]
  },
  {
   "cell_type": "markdown",
   "metadata": {},
   "source": [
    "\n",
    "Second option is without the overhead of make_model. It is simpler when the full model is not needed"
   ]
  },
  {
   "cell_type": "code",
   "execution_count": null,
   "metadata": {},
   "outputs": [],
   "source": [
    "# need a new import\n",
    "from smrt import make_emmodel"
   ]
  },
  {
   "cell_type": "code",
   "execution_count": null,
   "metadata": {},
   "outputs": [],
   "source": [
    "# then, make the EM model\n",
    "em_iba = make_emmodel(\"iba\")(sensor, firstlayer)\n",
    "# get ks\n",
    "em_iba.ks"
   ]
  },
  {
   "cell_type": "markdown",
   "metadata": {},
   "source": [
    "## Comparing the scattering coefficient from different formulations"
   ]
  },
  {
   "cell_type": "markdown",
   "metadata": {},
   "source": [
    "Most of the theories can be compared for the SHS snowpack. We compute the scattering coefficient and assess the radius dependence "
   ]
  },
  {
   "cell_type": "code",
   "execution_count": null,
   "metadata": {},
   "outputs": [],
   "source": [
    "ks_iba = [m_iba.emmodel(sensor, sp.layers[0]).ks for sp in snowpack_list_shs]\n",
    "ks_sce = [m_sce.emmodel(sensor, sp.layers[0]).ks for sp in snowpack_list_shs]\n",
    "ks_qca = [m_dmrt_qca.emmodel(sensor, sp.layers[0]).ks for sp in snowpack_list_shs]\n"
   ]
  },
  {
   "cell_type": "markdown",
   "metadata": {},
   "source": [
    "Now we can compare the radius dependence:"
   ]
  },
  {
   "cell_type": "code",
   "execution_count": null,
   "metadata": {},
   "outputs": [],
   "source": [
    "plt.figure()\n",
    "plt.plot(radius_list*1e6, ks_iba, label=\"IBA\")\n",
    "plt.plot(radius_list*1e6, ks_qca, label=\"QCA\")\n",
    "plt.plot(radius_list*1e6, ks_sce, label=\"SCE RT08\")\n",
    "\n",
    "plt.legend()\n",
    "plt.xlabel(\"Radius ($\\\\mu$m)\")\n",
    "plt.ylabel(\"Scattering coefficient (m$^{-1}$)\")"
   ]
  },
  {
   "cell_type": "markdown",
   "metadata": {},
   "source": [
    "## Continue exploring: \n",
    "    \n",
    "- Make a similar comparison for the EXP snowpack as a function of correlation length\n",
    "- Explore the different behavior of the scattering coefficient as a function of density\n",
    "- Get rid of the albedo warning by using QCA-CP instead of QCA. "
   ]
  },
  {
   "cell_type": "code",
   "execution_count": null,
   "metadata": {},
   "outputs": [],
   "source": []
  },
  {
   "cell_type": "code",
   "execution_count": null,
   "metadata": {},
   "outputs": [],
   "source": []
  }
 ],
 "metadata": {
  "hide_input": false,
  "kernelspec": {
   "display_name": "Python [conda env:smrt]",
   "language": "python",
   "name": "conda-env-smrt-py"
  },
  "language_info": {
   "codemirror_mode": {
    "name": "ipython",
    "version": 3
   },
   "file_extension": ".py",
   "mimetype": "text/x-python",
   "name": "python",
   "nbconvert_exporter": "python",
   "pygments_lexer": "ipython3",
   "version": "3.12.5"
  },
  "nav_menu": {},
  "toc": {
   "navigate_menu": true,
   "number_sections": true,
   "sideBar": true,
   "threshold": 6,
   "toc_cell": false,
   "toc_section_display": "block",
   "toc_window_display": false
  },
  "varInspector": {
   "cols": {
    "lenName": 16,
    "lenType": 16,
    "lenVar": 40
   },
   "kernels_config": {
    "python": {
     "delete_cmd_postfix": "",
     "delete_cmd_prefix": "del ",
     "library": "var_list.py",
     "varRefreshCmd": "print(var_dic_list())"
    },
    "r": {
     "delete_cmd_postfix": ") ",
     "delete_cmd_prefix": "rm(",
     "library": "var_list.r",
     "varRefreshCmd": "cat(var_dic_list()) "
    }
   },
   "types_to_exclude": [
    "module",
    "function",
    "builtin_function_or_method",
    "instance",
    "_Feature"
   ],
   "window_display": false
  }
 },
 "nbformat": 4,
 "nbformat_minor": 4
}
