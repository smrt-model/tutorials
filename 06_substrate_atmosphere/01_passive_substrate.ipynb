{
 "cells": [
  {
   "cell_type": "markdown",
   "metadata": {},
   "source": [
    "## Table of Contents\n",
    "\n",
    "\n",
    "\n",
    "__Goal__:\n",
    " - Passive Substrate: specify the reflectivity\n",
    " - Passive Substrate: use a soil model\n",
    " - Investigate the sensitivity to substrate parameters.\n",
    "\n",
    "\n",
    "__Learning__: How to incorporate substrate into a snowpack for passive simulations.\n",
    "\n",
    "# Substrate\n",
    "\n",
    "The substrate is an object itself, containing information on the reflectivity and other parameters if used to calculate reflectivity. The substrate object then forms part of the snowpack object.\n",
    "\n",
    "## Passive: with reflectivity\n",
    "\n",
    "The first passive example demonstrates how to add a substrate with known reflectivity. This example is for a near perfect absorber (emissivity = 0.98). The substrate is defined, then added to the snowpack.\n"
   ]
  },
  {
   "cell_type": "code",
   "execution_count": null,
   "metadata": {},
   "outputs": [],
   "source": [
    "# Import statements\n",
    "import numpy as np\n",
    "import matplotlib.pyplot as plt\n",
    "%matplotlib inline\n",
    "\n",
    "from smrt import make_snowpack, make_model\n",
    "from smrt.inputs.sensor_list import passive\n",
    "\n",
    "# This is the passive reflector\n",
    "from smrt.substrate.reflector import make_reflector"
   ]
  },
  {
   "cell_type": "code",
   "execution_count": null,
   "metadata": {},
   "outputs": [],
   "source": [
    "# Create substrate from known reflectivity\n",
    "substrate = make_reflector(temperature=265, specular_reflection=0.02)"
   ]
  },
  {
   "cell_type": "code",
   "execution_count": null,
   "metadata": {
    "scrolled": true
   },
   "outputs": [],
   "source": [
    "# Make simple snowpack, including substrate\n",
    "snow = make_snowpack([1], \"exponential\", temperature=[265],\n",
    "                     density=[280], corr_length=[5e-5], substrate=substrate)"
   ]
  },
  {
   "cell_type": "markdown",
   "metadata": {},
   "source": [
    "A new way to do this is to use the + operator (also works with +=):"
   ]
  },
  {
   "cell_type": "code",
   "execution_count": null,
   "metadata": {},
   "outputs": [],
   "source": [
    "snow = make_snowpack([1], \"exponential\", temperature=[265],\n",
    "                     density=[280], corr_length=[5e-5])\n",
    "medium = snow + substrate"
   ]
  },
  {
   "cell_type": "markdown",
   "metadata": {},
   "source": [
    "This means you can keep the same snowpack but easily compare different representations of the substrate. Have a look at the properties of the medium - the substrate is listed below the layer properties."
   ]
  },
  {
   "cell_type": "code",
   "execution_count": null,
   "metadata": {},
   "outputs": [],
   "source": [
    "medium"
   ]
  },
  {
   "cell_type": "markdown",
   "metadata": {},
   "source": [
    "Make the model, specify a sensor then run the model (feel free to change values below!)"
   ]
  },
  {
   "cell_type": "code",
   "execution_count": null,
   "metadata": {},
   "outputs": [],
   "source": [
    "m = make_model(\"iba\", \"dort\")\n",
    "rad = passive(21e9, 55)\n",
    "m.run(rad, medium).TbV()"
   ]
  },
  {
   "cell_type": "markdown",
   "metadata": {},
   "source": [
    "### Challenges:\n",
    "\n",
    "1. Plot a graph of how the brightness temperature varies with reflectivity\n",
    "2. Compare a shallow snowpack with a deep snowpack - what is happening?"
   ]
  },
  {
   "cell_type": "code",
   "execution_count": null,
   "metadata": {},
   "outputs": [],
   "source": []
  },
  {
   "cell_type": "markdown",
   "metadata": {},
   "source": [
    "## Passive: with soil model\n",
    "\n",
    "Alternatively the soil dielectric constant may be calculated from a theoretical model. The Wegmuller and Mätzler (1999) soil model is included in SMRT, other soil models may be contributed by taking a similar approach. This model, however, means that a soil dielectric constant model is required. Here we use the Dobson et al., (1985) model.\n"
   ]
  },
  {
   "cell_type": "code",
   "execution_count": null,
   "metadata": {},
   "outputs": [],
   "source": [
    "from smrt import make_soil\n",
    "soil = make_soil('soil_wegmuller', 'dobson85', temperature=265, roughness_rms=0.25, \n",
    "                 moisture=0.25, sand=0.01, clay=0.7, drymatter=1300)"
   ]
  },
  {
   "cell_type": "markdown",
   "metadata": {},
   "source": [
    "### Challenges:\n",
    "\n",
    "1. Make a snowpack with a soil substrate\n",
    "2. How does this compare with the reflector case above?\n",
    "2. What is the impact of roughness (or other soil parameters)?\n",
    "2. Try using the soil_qnh model instead\n",
    "2. What other soil permittivity models could you use?"
   ]
  },
  {
   "cell_type": "code",
   "execution_count": null,
   "metadata": {},
   "outputs": [],
   "source": []
  }
 ],
 "metadata": {
  "kernelspec": {
   "display_name": "Python 3",
   "language": "python",
   "name": "python3"
  },
  "language_info": {
   "codemirror_mode": {
    "name": "ipython",
    "version": 3
   },
   "file_extension": ".py",
   "mimetype": "text/x-python",
   "name": "python",
   "nbconvert_exporter": "python",
   "pygments_lexer": "ipython3",
   "version": "3.8.5"
  }
 },
 "nbformat": 4,
 "nbformat_minor": 2
}
