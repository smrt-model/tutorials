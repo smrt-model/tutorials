{
 "cells": [
  {
   "cell_type": "markdown",
   "metadata": {},
   "source": [
    "## Table of Contents\n",
    "\n",
    "__Goal__:\n",
    " - Active Substrate: specify the reflectivity\n",
    " - Active Substrate: use a backscatter model\n",
    " - Investigate the sensitivity to substrate parameters.\n",
    "\n",
    "\n",
    "__Learning__: How to incorporate substrate into a snowpack for active simulations.\n"
   ]
  },
  {
   "cell_type": "code",
   "execution_count": null,
   "metadata": {},
   "outputs": [],
   "source": [
    "# Import statements\n",
    "import numpy as np\n",
    "import matplotlib.pyplot as plt\n",
    "%matplotlib inline\n",
    "\n",
    "from smrt import make_snowpack, make_model, make_soil  # Core model functionality\n",
    "from smrt.inputs.sensor_list import active\n",
    "from smrt.utils import dB\n",
    "\n",
    "# Note this is different from the passive substrate.reflector\n",
    "from smrt.substrate.reflector_backscatter import make_reflector\n",
    "\n"
   ]
  },
  {
   "cell_type": "markdown",
   "metadata": {},
   "source": [
    "## Active: prescribed backscatter"
   ]
  },
  {
   "cell_type": "code",
   "execution_count": null,
   "metadata": {},
   "outputs": [],
   "source": [
    "# Define the substrate\n",
    "reflector = make_reflector(temperature=265, specular_reflection=0., backscattering_coefficient={'VV': 0.1, 'HH': 0.1})"
   ]
  },
  {
   "cell_type": "code",
   "execution_count": null,
   "metadata": {},
   "outputs": [],
   "source": [
    "# Need to define an active sensor\n",
    "scatt = active(13e9, 45)"
   ]
  },
  {
   "cell_type": "markdown",
   "metadata": {},
   "source": [
    "Make a snowpack with a substrate"
   ]
  },
  {
   "cell_type": "code",
   "execution_count": null,
   "metadata": {},
   "outputs": [],
   "source": [
    "# snow = ...\n",
    "# medium = ... "
   ]
  },
  {
   "cell_type": "markdown",
   "metadata": {},
   "source": [
    "Run model and output results in dB"
   ]
  },
  {
   "cell_type": "code",
   "execution_count": null,
   "metadata": {},
   "outputs": [],
   "source": [
    "model = make_model('iba', 'dort')\n",
    "result = model.run(scatt, medium)"
   ]
  },
  {
   "cell_type": "markdown",
   "metadata": {},
   "source": [
    "You can output the intensity e.g. result.sigmaVV(). This can be converted to dB with the utils.dB function imported above"
   ]
  },
  {
   "cell_type": "code",
   "execution_count": null,
   "metadata": {},
   "outputs": [],
   "source": [
    "dB(result.sigmaVV())"
   ]
  },
  {
   "cell_type": "markdown",
   "metadata": {},
   "source": [
    "or you can output the result in dB directly:"
   ]
  },
  {
   "cell_type": "code",
   "execution_count": null,
   "metadata": {},
   "outputs": [],
   "source": [
    "result.sigmaVV_dB()"
   ]
  },
  {
   "cell_type": "markdown",
   "metadata": {},
   "source": [
    "### How does the output vary with backscattering coefficients?"
   ]
  },
  {
   "cell_type": "code",
   "execution_count": null,
   "metadata": {},
   "outputs": [],
   "source": []
  },
  {
   "cell_type": "markdown",
   "metadata": {},
   "source": [
    "## Using backscatter models\n",
    "\n",
    "SMRT currently has two backscatter models implemented: IEM (2 versions) and Geometric Optics. These are implemented as interfaces, but can be applied to represent the substrate. Here we'll use IEM"
   ]
  },
  {
   "cell_type": "code",
   "execution_count": null,
   "metadata": {},
   "outputs": [],
   "source": [
    "substrate = make_soil(\"iem_fung92\", \"dobson85\", temperature=260, \n",
    "                                            roughness_rms=1e-3,\n",
    "                                            corr_length=5e-2,\n",
    "                                            autocorrelation_function=\"exponential\",\n",
    "                                            moisture=0.25, sand=0.01, clay=0.7, drymatter=1300)"
   ]
  },
  {
   "cell_type": "markdown",
   "metadata": {},
   "source": [
    "Make a single layer snowpack, add substrate and run the model"
   ]
  },
  {
   "cell_type": "code",
   "execution_count": null,
   "metadata": {},
   "outputs": [],
   "source": [
    "#snow = ..."
   ]
  },
  {
   "cell_type": "markdown",
   "metadata": {},
   "source": [
    "You can also change the bottom (or any!) interface to use the backscatter model"
   ]
  },
  {
   "cell_type": "code",
   "execution_count": null,
   "metadata": {},
   "outputs": [],
   "source": [
    "from smrt.interface.geometrical_optics_backscatter import GeometricalOpticsBackscatter\n",
    "from smrt.core.interface import make_interface\n",
    "\n",
    "rough_interface = make_interface(GeometricalOpticsBackscatter, mean_square_slope=0.03)\n",
    "snow.interfaces[-1] = rough_interface"
   ]
  },
  {
   "cell_type": "markdown",
   "metadata": {},
   "source": [
    "Look at the snowpack - you can see the interface for the bottom layer has now changed."
   ]
  },
  {
   "cell_type": "code",
   "execution_count": null,
   "metadata": {},
   "outputs": [],
   "source": [
    "snow"
   ]
  },
  {
   "cell_type": "markdown",
   "metadata": {},
   "source": [
    "Note that this is the interface at the top of the layer, not the bottom so is equivalent here to setting the surface of the snowpack to be rough. You can also set a rough snow surface by passing the argument surface=rough_interface when creating the snowpack.\n",
    "\n",
    "Construct a medium for snow on sea ice - assign a rough interface for the highest (or single) sea ice layer. This then makes the interface between the snow and sea ice rough. Run the model. Look at the change from a smooth snow-sea ice interface."
   ]
  },
  {
   "cell_type": "code",
   "execution_count": null,
   "metadata": {},
   "outputs": [],
   "source": []
  },
  {
   "cell_type": "markdown",
   "metadata": {},
   "source": [
    "*Challenges:*\n",
    "\n",
    "- Make a multilayer snowpack and look at impact of inserting a rough interface for each layer in turn.\n",
    "- Compare IEM and Geometrical Optics. Where might you use one versus the other?"
   ]
  },
  {
   "cell_type": "code",
   "execution_count": null,
   "metadata": {},
   "outputs": [],
   "source": []
  }
 ],
 "metadata": {
  "kernelspec": {
   "display_name": "Python 3",
   "language": "python",
   "name": "python3"
  },
  "language_info": {
   "codemirror_mode": {
    "name": "ipython",
    "version": 3
   },
   "file_extension": ".py",
   "mimetype": "text/x-python",
   "name": "python",
   "nbconvert_exporter": "python",
   "pygments_lexer": "ipython3",
   "version": "3.8.5"
  }
 },
 "nbformat": 4,
 "nbformat_minor": 2
}
