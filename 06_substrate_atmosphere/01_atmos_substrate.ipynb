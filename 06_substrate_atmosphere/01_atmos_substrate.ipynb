{
 "cells": [
  {
   "cell_type": "markdown",
   "metadata": {},
   "source": [
    "## Table of Contents\n",
    "\n",
    "1.  Passive Substrate: specify the reflectivity\n",
    "3.  Passive Substrate: use a soil model\n",
    "4.  Specify substrate for active simulations\n",
    "4.  Include an atmosphere\n",
    "\n",
    "Objective: Learn how to incorporate substrate into a snowpack and include an atmospheric component in the model run. Investigate the sensitivity to substrate and atmosphere parameters.\n",
    "\n",
    "# Substrate\n",
    "\n",
    "The substrate is an object itself, containing information on the reflectivity and other parameters if used to calculate reflectivity. The substrate object then forms part of the snowpack object.\n",
    "\n",
    "## Passive: with reflectivity\n",
    "\n",
    "The first passive example demonstrates how to add a substrate with known reflectivity. This example is for a near perfect absorber (emissivity = 0.98). The substrate is defined, then added to the snowpack.\n"
   ]
  },
  {
   "cell_type": "code",
   "execution_count": null,
   "metadata": {},
   "outputs": [],
   "source": [
    "# Import statements\n",
    "import numpy as np\n",
    "from smrt import make_snowpack, make_model  # Core model functionality\n",
    "from smrt.inputs.sensor_list import passive\n",
    "from smrt.substrate.reflector import make_reflector\n",
    "import matplotlib.pyplot as plt\n",
    "%matplotlib inline"
   ]
  },
  {
   "cell_type": "code",
   "execution_count": null,
   "metadata": {},
   "outputs": [],
   "source": [
    "# Create substrate from known reflectivity\n",
    "substrate = make_reflector(temperature=265, specular_reflection=0.02)"
   ]
  },
  {
   "cell_type": "code",
   "execution_count": null,
   "metadata": {
    "scrolled": true
   },
   "outputs": [],
   "source": [
    "# Make simple snowpack, including substrate\n",
    "snow = make_snowpack([1], \"exponential\", temperature=[265],\n",
    "                     density=[280], corr_length=[5e-5], substrate=substrate)"
   ]
  },
  {
   "cell_type": "markdown",
   "metadata": {},
   "source": []
  },
  {
   "cell_type": "code",
   "execution_count": null,
   "metadata": {},
   "outputs": [],
   "source": [
    "# Or the another new way by using the + operator (works also with +=):\n",
    "\n",
    "snow = make_snowpack([1], \"exponential\", temperature=[265],\n",
    "                     density=[280], corr_length=[5e-5])\n",
    "medium = snow + substrate\n",
    "\n",
    "# Make model, specify sensor then run model\n",
    "m = make_model(\"iba\", \"dort\")\n",
    "rad = passive(21e9, 55)\n",
    "m.run(rad, medium).TbV()"
   ]
  },
  {
   "cell_type": "markdown",
   "metadata": {},
   "source": [
    "### Challenges:\n",
    "\n",
    "1. Plot a graph of how the brightness temperature varies with reflectivity\n",
    "2. Compare a shallow snowpack with a deep snowpack"
   ]
  },
  {
   "cell_type": "code",
   "execution_count": null,
   "metadata": {},
   "outputs": [],
   "source": []
  },
  {
   "cell_type": "markdown",
   "metadata": {},
   "source": [
    "## Passive: with soil model\n",
    "\n",
    "Alternatively the soil dielectric constant may be calculated from a theoretical model. The Wegmuller and Mätzler (1999) soil model is included in SMRT, other soil models may be contributed by taking a similar approach. This model, however, means that a soil dielectric constant model is required. Here we use the Dobson et al., (1985) model.\n"
   ]
  },
  {
   "cell_type": "code",
   "execution_count": null,
   "metadata": {},
   "outputs": [],
   "source": [
    "from smrt import make_soil\n",
    "soil = make_soil('soil_wegmuller', 'dobson85', temperature=265, roughness_rms=0.25, \n",
    "                 moisture=0.25, sand=0.01, clay=0.7, drymatter=1300)"
   ]
  },
  {
   "cell_type": "markdown",
   "metadata": {},
   "source": [
    "### Challenges:\n",
    "\n",
    "1. Make a snowpack with a soil substrate\n",
    "2. How does this compare with the reflector case above?\n",
    "2. What is the impact of roughness (or other soil parameters)?"
   ]
  },
  {
   "cell_type": "code",
   "execution_count": null,
   "metadata": {},
   "outputs": [],
   "source": []
  },
  {
   "cell_type": "markdown",
   "metadata": {},
   "source": [
    "## Active: prescribed backscatter"
   ]
  },
  {
   "cell_type": "code",
   "execution_count": null,
   "metadata": {},
   "outputs": [],
   "source": [
    "# Define the substrate\n",
    "from smrt.substrate.reflector_backscatter import make_reflector\n",
    "reflector = make_reflector(temperature=265, specular_reflection=0., backscattering_coefficient={'VV': 0.1, 'HH': 0.1})"
   ]
  },
  {
   "cell_type": "code",
   "execution_count": null,
   "metadata": {},
   "outputs": [],
   "source": [
    "# Need to define an active sensor\n",
    "from smrt.inputs.sensor_list import active\n",
    "from smrt.utils import dB\n",
    "scatt = active(13e9, 45)"
   ]
  },
  {
   "cell_type": "markdown",
   "metadata": {},
   "source": [
    "### Challenges:\n",
    "\n",
    "1. Make a snowpack with a substrate\n",
    "2. Run model and output results in dB\n",
    "3. How does the output vary with backscattering coefficients?"
   ]
  },
  {
   "cell_type": "code",
   "execution_count": null,
   "metadata": {},
   "outputs": [],
   "source": []
  },
  {
   "cell_type": "code",
   "execution_count": null,
   "metadata": {},
   "outputs": [],
   "source": []
  },
  {
   "cell_type": "markdown",
   "metadata": {},
   "source": [
    "\n",
    "# Atmosphere\n",
    "\n",
    "Note: It is likely that how Atmosphere works in SMRT is going to change to deal with advanced atmopshere models. This may affect this part of the tutorial in the future.\n",
    "\n",
    "Import module and define atmosphere. It is possible to include the downwelling atmospheric contribution (tbdown), and the upwelling contribution (tbup) and/or the atmospheric transmissivity (trans). The default values are tbup, tbdown = 0 and transmittivity = 1."
   ]
  },
  {
   "cell_type": "code",
   "execution_count": null,
   "metadata": {},
   "outputs": [],
   "source": [
    "from smrt.atmosphere.simple_isotropic_atmosphere import SimpleIsotropicAtmosphere\n",
    "atmos = SimpleIsotropicAtmosphere(tbdown=30., tbup=6., trans=0.90)"
   ]
  },
  {
   "cell_type": "markdown",
   "metadata": {},
   "source": [
    "### Challenges\n",
    "\n",
    "1. Set up a snowpack / sensor and model configuration\n",
    "2. Include atmosphere in model run (e.g. model.run(sensor, snowpack, atmosphere=atmos))\n",
    "3. Investigate how output changes with atmospheric transmissivity"
   ]
  },
  {
   "cell_type": "code",
   "execution_count": null,
   "metadata": {},
   "outputs": [],
   "source": []
  }
 ],
 "metadata": {
  "kernelspec": {
   "display_name": "Python 3",
   "language": "python",
   "name": "python3"
  },
  "language_info": {
   "codemirror_mode": {
    "name": "ipython",
    "version": 3
   },
   "file_extension": ".py",
   "mimetype": "text/x-python",
   "name": "python",
   "nbconvert_exporter": "python",
   "pygments_lexer": "ipython3",
   "version": "3.7.3"
  }
 },
 "nbformat": 4,
 "nbformat_minor": 2
}
