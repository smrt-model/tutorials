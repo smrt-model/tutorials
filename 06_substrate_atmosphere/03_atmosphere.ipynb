{
 "cells": [
  {
   "cell_type": "markdown",
   "metadata": {},
   "source": [
    "## Table of Contents\n",
    "\n",
    "__Goal__:\n",
    " - Add atmosphere to snowpack\n",
    " - Investigate the sensitivity to atmosphere parameters.\n",
    "\n",
    "\n",
    "__Learning__: How to incorporate simple atmosphere into a snowpack."
   ]
  },
  {
   "cell_type": "code",
   "execution_count": null,
   "metadata": {},
   "outputs": [],
   "source": [
    "# Import statements\n",
    "import numpy as np\n",
    "from smrt import make_snowpack, make_model  # Core model functionality\n",
    "\n",
    "import matplotlib.pyplot as plt\n",
    "%matplotlib inline"
   ]
  },
  {
   "cell_type": "markdown",
   "metadata": {},
   "source": [
    "\n",
    "# Atmosphere\n",
    "\n",
    "Note: It is likely that how Atmosphere works in SMRT is going to change to deal with advanced atmosphere models. This may affect this part of the tutorial in the future.\n",
    "\n",
    "Import module and define atmosphere. It is possible to include the downwelling atmospheric contribution (tbdown), and the upwelling contribution (tbup) and/or the atmospheric transmissivity (trans). The default values are tbup, tbdown = 0 and transmittivity = 1."
   ]
  },
  {
   "cell_type": "code",
   "execution_count": null,
   "metadata": {},
   "outputs": [],
   "source": [
    "from smrt.atmosphere.simple_isotropic_atmosphere import make_atmosphere\n",
    "\n",
    "atmos = make_atmosphere(tbdown=30., tbup=6., trans=0.90)"
   ]
  },
  {
   "cell_type": "markdown",
   "metadata": {},
   "source": [
    "### Challenges\n",
    "\n",
    "1. Set up a snowpack / sensor and model configuration\n",
    "2. Include atmosphere in model run (medium = atmos + snow)\n",
    "3. Investigate how output changes with atmospheric transmissivity"
   ]
  },
  {
   "cell_type": "code",
   "execution_count": null,
   "metadata": {},
   "outputs": [],
   "source": []
  }
 ],
 "metadata": {
  "kernelspec": {
   "display_name": "Python 3",
   "language": "python",
   "name": "python3"
  },
  "language_info": {
   "codemirror_mode": {
    "name": "ipython",
    "version": 3
   },
   "file_extension": ".py",
   "mimetype": "text/x-python",
   "name": "python",
   "nbconvert_exporter": "python",
   "pygments_lexer": "ipython3",
   "version": "3.8.5"
  }
 },
 "nbformat": 4,
 "nbformat_minor": 2
}
