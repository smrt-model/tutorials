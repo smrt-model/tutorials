{
 "cells": [
  {
   "cell_type": "markdown",
   "metadata": {},
   "source": [
    "Time-series\n",
    "============\n",
    "\n",
    "__Goal__:\n",
    "Run SMRT on a time-series with varying temperature on the Dome C snowpack.\n",
    "We propose variations of temperature profile following:\n",
    "$$ T(z, t) = 27 \\cos(\\omega t - k z) exp(- k z) + (273 - 52) $$\n",
    "with $\\omega= 2 \\pi/1year$ and $k=0.5 m^{-1}$.\n",
    "  \n",
    "__Learning__: \n",
    " \n",
    "Time-series is frequent, but from a SMRT perspective is not different from sensitivity study. The idea is to build a list of snowpacks and run it with snowpack_dimension=('time', time_series). If you know pandas well, this is even easir with pd.DataFrame, with the benefice of the power of all the time functions in pandas.\n",
    "\n",
    "__Tips__:\n",
    "\n",
    "The computation for a full year (every day) takes a long time. Don't forget to use parallel_computation=True in run function.\n"
   ]
  },
  {
   "cell_type": "code",
   "execution_count": null,
   "metadata": {},
   "outputs": [],
   "source": [
    "import numpy as np\n",
    "\n",
    "import matplotlib.pyplot as plt\n",
    "%matplotlib notebook\n",
    "\n",
    "from smrt import make_model, make_snowpack, sensor_list"
   ]
  },
  {
   "cell_type": "code",
   "execution_count": null,
   "metadata": {},
   "outputs": [],
   "source": [
    "# prepare the snowpack\n",
    "thickness, density, radius, tmp = np.loadtxt(\"data-domec-sp1-picard-2014.dat\", skiprows=2, unpack=True, delimiter=\" \")\n",
    "\n",
    "z = np.cumsum(thickness)\n",
    "\n",
    "def temperature(z, t):\n",
    "    omega = 2*np.pi/ 365 / 24 / 3600\n",
    "    k = 0.5\n",
    "    return 27*np.cos(omega*convert_to_seconds(t) - k*z)* np.exp(-k*z)\n",
    "\n",
    "def convert_to_seconds(t):\n",
    "    # this is a bit tricky. It is easier to work with pandas timeseries than numpy timeseries... if you know pandas.\n",
    "    return (t.astype('datetime64[s]')- np.datetime64('2012-01-01T00:00:00', 's'))/np.timedelta64(1, 's')"
   ]
  },
  {
   "cell_type": "code",
   "execution_count": null,
   "metadata": {},
   "outputs": [],
   "source": [
    "snowpack = list()\n",
    "times = np.arange('2012-01-01', '2013-01-01', 10, dtype='datetime64[D]')"
   ]
  },
  {
   "cell_type": "code",
   "execution_count": null,
   "metadata": {},
   "outputs": [],
   "source": [
    "plt.figure()\n",
    "plt.plot(times, temperature(0, times))\n",
    "plt.plot(times, temperature(2, times))"
   ]
  },
  {
   "cell_type": "code",
   "execution_count": null,
   "metadata": {},
   "outputs": [],
   "source": [
    "# prepare the snowpacks with the different temperature profiles, run and plot the timeseries\n",
    "\n"
   ]
  }
 ],
 "metadata": {
  "hide_input": false,
  "kernelspec": {
   "display_name": "Python 3 (ipykernel)",
   "language": "python",
   "name": "python3"
  },
  "language_info": {
   "codemirror_mode": {
    "name": "ipython",
    "version": 3
   },
   "file_extension": ".py",
   "mimetype": "text/x-python",
   "name": "python",
   "nbconvert_exporter": "python",
   "pygments_lexer": "ipython3",
   "version": "3.10.10"
  },
  "nav_menu": {},
  "toc": {
   "navigate_menu": true,
   "number_sections": true,
   "sideBar": true,
   "threshold": 6,
   "toc_cell": false,
   "toc_section_display": "block",
   "toc_window_display": false
  },
  "varInspector": {
   "cols": {
    "lenName": 16,
    "lenType": 16,
    "lenVar": 40
   },
   "kernels_config": {
    "python": {
     "delete_cmd_postfix": "",
     "delete_cmd_prefix": "del ",
     "library": "var_list.py",
     "varRefreshCmd": "print(var_dic_list())"
    },
    "r": {
     "delete_cmd_postfix": ") ",
     "delete_cmd_prefix": "rm(",
     "library": "var_list.r",
     "varRefreshCmd": "cat(var_dic_list()) "
    }
   },
   "types_to_exclude": [
    "module",
    "function",
    "builtin_function_or_method",
    "instance",
    "_Feature"
   ],
   "window_display": false
  }
 },
 "nbformat": 4,
 "nbformat_minor": 4
}
