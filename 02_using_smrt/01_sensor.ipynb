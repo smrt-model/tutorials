{
 "cells": [
  {
   "cell_type": "markdown",
   "metadata": {},
   "source": [
    "Sensors in SMRT\n",
    "===========\n",
    "\n",
    "__Goal__:\n",
    "- plot the diagram of thermal emission + backscattering coefficient from a simple snowpack at 13 GHz\n",
    "- plot the diagram of thermal emission from a simple snowpack at multiple frequencies (e.g. 19 and 37 GHz)\n",
    "  \n",
    "__Learning__: Sensor and Result object\n",
    " \n",
    "For the snowpack, you can take the following properties:\n",
    "- thickness = 1000 (means semi-infinite)\n",
    "- sticky_hard_spheres microstructure model\n",
    "- radius = 100e-6\n",
    "- density = 300\n",
    "- temperature = 260\n",
    "- stickiness = 0.15\n",
    "\n",
    "The following imports are valid for both excercices:\n",
    "\n"
   ]
  },
  {
   "cell_type": "code",
   "execution_count": null,
   "metadata": {},
   "outputs": [],
   "source": [
    "import numpy as np\n",
    "\n",
    "import matplotlib.pyplot as plt\n",
    "%matplotlib notebook   \n",
    "# use %matplotlib widget if using jupyterlab instead of jupyter notebook\n",
    "\n",
    "from smrt import make_model, make_snowpack, sensor_list\n",
    "from smrt.utils import dB"
   ]
  },
  {
   "cell_type": "markdown",
   "metadata": {},
   "source": [
    "Emission / backscatter diagram\n",
    "-----------------------------------"
   ]
  },
  {
   "cell_type": "code",
   "execution_count": null,
   "metadata": {},
   "outputs": [],
   "source": [
    "# prepare the snowpack\n",
    "radius = 100e-6\n",
    "density=300\n",
    "temperature = 260\n",
    "sp = make_snowpack(thickness=[1000], microstructure_model='sticky_hard_spheres',\n",
    "                  density=density, radius=radius, temperature=temperature,\n",
    "                  stickiness=0.15)"
   ]
  },
  {
   "cell_type": "code",
   "execution_count": null,
   "metadata": {},
   "outputs": [],
   "source": [
    "# prepare a list for theta from 5 to 65 by step of 5\n",
    "theta = [5, 10, 15, 20, 25, 30, 35, 40, 45, 50, 55, 60, 65]\n",
    "# prepare two sensors (one active, on passive) at 13 GHz\n",
    "radiometer = sensor_list.passive(13e9, theta)\n",
    "radar  = sensor_list.active(13e9, theta)"
   ]
  },
  {
   "cell_type": "code",
   "execution_count": null,
   "metadata": {},
   "outputs": [],
   "source": [
    "# prepare the model and run it successively for each sensor\n",
    "m = make_model(\"iba\", \"dort\")\n",
    "res_a = m.run(radar, sp)\n",
    "res_p = m.run(radiometer, sp)"
   ]
  },
  {
   "cell_type": "code",
   "execution_count": null,
   "metadata": {},
   "outputs": [],
   "source": [
    "# for plotting two side by side graphs, the best solution is:\n",
    "f, axs = plt.subplots(1, 2, figsize=(8, 3.5))\n",
    "\n",
    "# plot on left graph \n",
    "axs[0].plot(theta, res_a.sigmaVV()) # adapt x and y to your need\n",
    "# plot on right graph\n",
    "#axs[1].plot(x, y)  # adapt x and y to your need\n",
    "\n",
    "# to set axis labels:\n",
    "axs[0].set_xlabel(\"Viewing angle\")\n",
    "# ..."
   ]
  },
  {
   "cell_type": "markdown",
   "metadata": {},
   "source": [
    "multi-frequency emission diagram\n",
    "-----------------------------------"
   ]
  },
  {
   "cell_type": "code",
   "execution_count": null,
   "metadata": {},
   "outputs": [],
   "source": [
    "# prepare 1 sensor object with two frequencies"
   ]
  },
  {
   "cell_type": "code",
   "execution_count": null,
   "metadata": {},
   "outputs": [],
   "source": [
    "# prepare the model and run it"
   ]
  },
  {
   "cell_type": "code",
   "execution_count": null,
   "metadata": {},
   "outputs": [],
   "source": [
    "# plot the results on a single graph\n",
    "# see results documentation for selecting by frequency\n",
    "# http://smrt.readthedocs.io/en/latest/smrt.core.result.html"
   ]
  },
  {
   "cell_type": "code",
   "execution_count": null,
   "metadata": {},
   "outputs": [],
   "source": []
  }
 ],
 "metadata": {
  "hide_input": false,
  "kernelspec": {
   "display_name": "Python (smrt)",
   "language": "python",
   "name": "smrt"
  },
  "language_info": {
   "codemirror_mode": {
    "name": "ipython",
    "version": 3
   },
   "file_extension": ".py",
   "mimetype": "text/x-python",
   "name": "python",
   "nbconvert_exporter": "python",
   "pygments_lexer": "ipython3",
   "version": "3.9.16"
  },
  "nav_menu": {},
  "toc": {
   "navigate_menu": true,
   "number_sections": true,
   "sideBar": true,
   "threshold": 6,
   "toc_cell": false,
   "toc_section_display": "block",
   "toc_window_display": false
  },
  "varInspector": {
   "cols": {
    "lenName": 16,
    "lenType": 16,
    "lenVar": 40
   },
   "kernels_config": {
    "python": {
     "delete_cmd_postfix": "",
     "delete_cmd_prefix": "del ",
     "library": "var_list.py",
     "varRefreshCmd": "print(var_dic_list())"
    },
    "r": {
     "delete_cmd_postfix": ") ",
     "delete_cmd_prefix": "rm(",
     "library": "var_list.r",
     "varRefreshCmd": "cat(var_dic_list()) "
    }
   },
   "types_to_exclude": [
    "module",
    "function",
    "builtin_function_or_method",
    "instance",
    "_Feature"
   ],
   "window_display": false
  }
 },
 "nbformat": 4,
 "nbformat_minor": 4
}
