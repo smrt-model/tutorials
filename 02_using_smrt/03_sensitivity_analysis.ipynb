{
 "cells": [
  {
   "cell_type": "markdown",
   "metadata": {},
   "source": [
    "Sensitivity analysis\n",
    "============\n",
    "\n",
    "__Goal__:\n",
    " - run sensitivity analysis to show the impact of a given parameter on the SMRT output\n",
    "  \n",
    "__Learning__: \n",
    " \n",
    "\n",
    "SMRT is able to iterate on several arguments when it is unambiguous. For instance, a sensor with multiple frequencies, angles or polarizations is automatically understood. The `result` contains all the values which can be accessed with arguments in TbV() and similar functions. E.g. TbV(frequency=37e9)\n",
    "\n",
    "This is similar when a list of snowpacks is given to `run`. The `result` contains all the computations. The 'snowpack' dimension is automatically added but we can also propose a custom name for this dimension.\n",
    "\n",
    "In the recent version,a pandas DataFrame with a snowpack column can be given to `run`. The result once converted to a dataframe contains all the column of the original DataFrame. This is the most advanced and powerful way to conduct sensitivity analysis.\n",
    "\n",
    "In the following, we show different approaches to conduct sensitivity studies that  you can run and then apply to a study case of your choice:\n",
    " - take the Dome C snowpack and study the sensitivity of TbH 55° to superficial density\n",
    " - take any snowpack previously defined and investigated the sensivitiy to liquid_water\n",
    " - etc\n",
    " "
   ]
  },
  {
   "cell_type": "code",
   "execution_count": null,
   "metadata": {},
   "outputs": [],
   "source": [
    "import numpy as np\n",
    "import pandas as pd\n",
    "\n",
    "import matplotlib.pyplot as plt\n",
    "%matplotlib notebook\n",
    "\n",
    "from smrt import make_model, make_snowpack, sensor_list"
   ]
  },
  {
   "cell_type": "markdown",
   "metadata": {},
   "source": [
    "Build a list of snowpack\n",
    "--------------------------------\n",
    "\n",
    "The key idea is to build a list of snowpack or a DataFrame. E.g. we want to test the sensitivity of TB's to the radius. We first build a list of snowpack with different radius."
   ]
  },
  {
   "cell_type": "code",
   "execution_count": null,
   "metadata": {},
   "outputs": [],
   "source": [
    "# prepare the snowpack\n",
    "density = 300.0\n",
    "radius = np.arange(0.05, 0.5, 0.01) *1e-3  # from 0 to 0.5mm\n",
    "\n",
    "# the NAIVE APPROACH:\n",
    "\n",
    "snowpack = list()\n",
    "for x in radius:\n",
    "    sp = make_snowpack([1000.0], \"sticky_hard_spheres\", \n",
    "                       density=density, temperature=265, \n",
    "                       radius=x, stickiness=0.15)\n",
    "    snowpack.append(sp)"
   ]
  },
  {
   "cell_type": "markdown",
   "metadata": {},
   "source": [
    "In simple cases (as this one), it is easier to use \"list comprehension\", a nice python feature to create list."
   ]
  },
  {
   "cell_type": "code",
   "execution_count": null,
   "metadata": {},
   "outputs": [],
   "source": [
    "# a BETTER APPROACH with list comprehension\n",
    "snowpack = [make_snowpack([1000.0], \"sticky_hard_spheres\", \n",
    "                          density=density, temperature=265,\n",
    "                          radius=x, stickiness=0.15) for x in radius]\n",
    "\n",
    "# see an even BETTER APPROACH at the end using pandas.DataFrame"
   ]
  },
  {
   "cell_type": "code",
   "execution_count": null,
   "metadata": {},
   "outputs": [],
   "source": [
    "# prepare the sensor and model\n",
    "\n",
    "model = make_model(\"iba\", \"dort\")\n",
    "sensor = sensor_list.passive(37e9, 55)\n",
    "\n",
    "#run!"
   ]
  },
  {
   "cell_type": "markdown",
   "metadata": {},
   "source": [
    "Now we have a list of snowpacks, we want to call the model for each snowpack. We can use list comprehension again."
   ]
  },
  {
   "cell_type": "code",
   "execution_count": null,
   "metadata": {},
   "outputs": [],
   "source": [
    "# a NAIVE APPROACH\n",
    "results = [model.run(sensor, sp) for sp in snowpack]"
   ]
  },
  {
   "cell_type": "markdown",
   "metadata": {},
   "source": [
    "This return a list of results. To extract the TB V for each result can be done with another list comprehension. And then we plot the results."
   ]
  },
  {
   "cell_type": "code",
   "execution_count": null,
   "metadata": {},
   "outputs": [],
   "source": [
    "# still the NAIVE APPROACH\n",
    "tbv = [res.TbV() for res in results]\n",
    "plt.figure()\n",
    "plt.plot(radius, tbv)"
   ]
  },
  {
   "cell_type": "markdown",
   "metadata": {},
   "source": [
    "Nice ? We can do much better because `Model` can directly run on a list of snowpacks. It does not return a list of results, but **a unique result with a new coordinate** which is much more convenient."
   ]
  },
  {
   "cell_type": "code",
   "execution_count": null,
   "metadata": {},
   "outputs": [],
   "source": [
    "# a BETTER APPROACH\n",
    "\n",
    "results = model.run(sensor, snowpack, snowpack_dimension=('radius', radius))\n",
    "print(type(results))  # look results is a Result, not a list\n",
    "print(results.coords) # look, we have several coordinates, one is call corr_legn"
   ]
  },
  {
   "cell_type": "markdown",
   "metadata": {},
   "source": [
    "This is more compact and nicer, `results` explicitly show the radius dimension. Plotting is thus easier:"
   ]
  },
  {
   "cell_type": "code",
   "execution_count": null,
   "metadata": {},
   "outputs": [],
   "source": [
    "plt.figure()\n",
    "plt.plot(results.radius, results.TbV())"
   ]
  },
  {
   "cell_type": "markdown",
   "metadata": {},
   "source": [
    "And it is easy to save all the result to disk:"
   ]
  },
  {
   "cell_type": "code",
   "execution_count": null,
   "metadata": {},
   "outputs": [],
   "source": [
    "results.save(\"radius-sensitivity.nc\")"
   ]
  },
  {
   "cell_type": "markdown",
   "metadata": {},
   "source": [
    "Using pandas.DataFrame\n",
    "-----------------------"
   ]
  },
  {
   "cell_type": "code",
   "execution_count": null,
   "metadata": {
    "tags": []
   },
   "outputs": [],
   "source": [
    "# here we build a simple DataFrame with the radius. More complex sensitivity analysis with more variables is possible\n",
    "# for instance radius and density could co-vary.\n",
    "\n",
    "sp = pd.DataFrame({'radius' : np.arange(0.05, 0.5, 0.01) * 1e-3})\n",
    "\n",
    "sp['snowpack'] = [make_snowpack([1000.0], \"sticky_hard_spheres\", \n",
    "                          density=density, temperature=265,\n",
    "                          radius=row['radius'], stickiness=0.15) for i, row in sp.iterrows()]"
   ]
  },
  {
   "cell_type": "code",
   "execution_count": null,
   "metadata": {},
   "outputs": [],
   "source": [
    "results = model.run(sensor, sp).to_dataframe()\n",
    "\n",
    "# that's it\n",
    "results"
   ]
  },
  {
   "cell_type": "markdown",
   "metadata": {},
   "source": [
    "It is recommended to use a named sensor with a channel_map (e.g. amsre, smos, ...) as defined in smrt.sensor.list. In this case the columns of the DataFrame are the channels of the sensor. It is a very convenient way to run multiple simulations and use the results for plotting or stats."
   ]
  },
  {
   "cell_type": "markdown",
   "metadata": {},
   "source": [
    "Recap:\n",
    "---------"
   ]
  },
  {
   "cell_type": "code",
   "execution_count": null,
   "metadata": {},
   "outputs": [],
   "source": [
    "# with List\n",
    "snowpack = [make_snowpack([1000.0], \"sticky_hard_spheres\", density=density, temperature=265, radius=x, stickiness=0.15) for x in radius]\n",
    "\n",
    "model = make_model(\"iba\", \"dort\")\n",
    "sensor = sensor_list.passive([19e9, 37e9], 55)\n",
    "\n",
    "results = model.run(sensor, snowpack, snowpack_dimension=('radius', radius))\n",
    "\n",
    "plt.figure()\n",
    "plt.plot(results.radius, results.TbV(frequency=19e9), label=\"19 GHz\")\n",
    "plt.plot(results.radius, results.TbV(frequency=37e9), label=\"37 GHz\")\n",
    "plt.legend()"
   ]
  },
  {
   "cell_type": "code",
   "execution_count": null,
   "metadata": {},
   "outputs": [],
   "source": [
    "# with DataFrame\n",
    "sp = pd.DataFrame({'radius' : np.arange(0.05, 0.5, 0.01) * 1e-3})\n",
    "\n",
    "sp['snowpack'] = [make_snowpack([1000.0], \"sticky_hard_spheres\", \n",
    "                          density=density, temperature=265,\n",
    "                          radius=row['radius'], stickiness=0.15) for i, row in sp.iterrows()]\n",
    "\n",
    "model = make_model(\"iba\", \"dort\")\n",
    "sensor = sensor_list.amsre(['19', '37'])\n",
    "\n",
    "results = model.run(sensor, sp).to_dataframe()\n",
    "\n",
    "plt.figure()\n",
    "plt.plot(results['radius'], results['19V'], label=\"19 GHz\")\n",
    "plt.plot(results['radius'], results['37V'], label=\"37 GHz\")\n",
    "plt.legend()"
   ]
  }
 ],
 "metadata": {
  "hide_input": false,
  "kernelspec": {
   "display_name": "Python 3 (ipykernel)",
   "language": "python",
   "name": "python3"
  },
  "language_info": {
   "codemirror_mode": {
    "name": "ipython",
    "version": 3
   },
   "file_extension": ".py",
   "mimetype": "text/x-python",
   "name": "python",
   "nbconvert_exporter": "python",
   "pygments_lexer": "ipython3",
   "version": "3.9.9"
  },
  "nav_menu": {},
  "toc": {
   "navigate_menu": true,
   "number_sections": true,
   "sideBar": true,
   "threshold": 6,
   "toc_cell": false,
   "toc_section_display": "block",
   "toc_window_display": false
  },
  "varInspector": {
   "cols": {
    "lenName": 16,
    "lenType": 16,
    "lenVar": 40
   },
   "kernels_config": {
    "python": {
     "delete_cmd_postfix": "",
     "delete_cmd_prefix": "del ",
     "library": "var_list.py",
     "varRefreshCmd": "print(var_dic_list())"
    },
    "r": {
     "delete_cmd_postfix": ") ",
     "delete_cmd_prefix": "rm(",
     "library": "var_list.r",
     "varRefreshCmd": "cat(var_dic_list()) "
    }
   },
   "types_to_exclude": [
    "module",
    "function",
    "builtin_function_or_method",
    "instance",
    "_Feature"
   ],
   "window_display": false
  }
 },
 "nbformat": 4,
 "nbformat_minor": 4
}
