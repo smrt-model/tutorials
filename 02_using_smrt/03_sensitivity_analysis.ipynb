{
 "cells": [
  {
   "cell_type": "markdown",
   "metadata": {},
   "source": [
    "Sensitivity analysis\n",
    "============\n",
    "\n",
    "__Goal__:\n",
    " - run sensitivity analysis to show the impact of a given parameter on the SMRT output\n",
    "  \n",
    "__Learning__: \n",
    " \n",
    "Intuitively running many simulations can be done with a loop and many calls to the SMRT functions. But this is not the recommended way, SMRT makes it more easy (you get a unique `result` easier to work with) and more efficient (SMRT can automatically use parallel computing, possibly on a High Performance Cluster).\n",
    "\n",
    "SMRT is indeed able to iterate on several arguments when it is unambiguous. For instance, a sensor with multiple frequencies, angles or polarizations is automatically understood. The `result` contains all the values which can be easily accessed with the functions like TbV(), and can also be filter. E.g. TbV(frequency=37e9)\n",
    "\n",
    "This is similar when a list of snowpacks is given to `run`. The `result` contains all the computations. The 'snowpack' dimension is automatically added but we can also propose a custom name for this dimension.\n",
    "\n",
    "In the recent version, an even more convenient approach is proposed if you're using pandas. A pandas DataFrame with a snowpack column can be given to `run`. The result once converted to a dataframe contains all the column of the original DataFrame. This is the most advanced and powerful way to conduct sensitivity analysis.\n",
    "\n",
    "In the following, we show different approaches to conduct sensitivity studies that  you can run and then apply to a study case of your choice:\n",
    " - take the Dome C snowpack and study the sensitivity of TbH 55° to superficial density\n",
    " - take any snowpack previously defined and investigated the sensivitiy to liquid_water\n",
    " - etc\n",
    "\n"
   ]
  },
  {
   "cell_type": "code",
   "execution_count": null,
   "metadata": {},
   "outputs": [],
   "source": [
    "import time\n",
    "\n",
    "import numpy as np\n",
    "import pandas as pd\n",
    "\n",
    "import matplotlib.pyplot as plt\n",
    "%matplotlib notebook\n",
    "\n",
    "from smrt import make_model, make_snowpack, sensor_list"
   ]
  },
  {
   "cell_type": "markdown",
   "metadata": {},
   "source": [
    "Build a list of snowpack\n",
    "--------------------------------\n",
    "\n",
    "The key idea is to build a list of snowpack or a DataFrame. E.g. we want to test the sensitivity of TB's to the radius. We first build a list of snowpack with different radius."
   ]
  },
  {
   "cell_type": "code",
   "execution_count": 29,
   "metadata": {},
   "outputs": [],
   "source": [
    "# prepare the snowpack\n",
    "density = 300.0\n",
    "radius = np.arange(0.05, 0.5, 0.01) * 1e-3  # from 0 to 0.5 mm\n",
    "\n",
    "# the NAIVE APPROACH:\n",
    "\n",
    "snowpack = list()\n",
    "for x in radius:\n",
    "    sp = make_snowpack([1000.0], \"sticky_hard_spheres\", \n",
    "                       density=density, temperature=265, \n",
    "                       radius=x, stickiness=0.15)\n",
    "    snowpack.append(sp)"
   ]
  },
  {
   "cell_type": "markdown",
   "metadata": {},
   "source": [
    "In simple cases (as this one), it is easier to use \"list comprehension\", a nice python feature to create list."
   ]
  },
  {
   "cell_type": "code",
   "execution_count": null,
   "metadata": {},
   "outputs": [],
   "source": [
    "# a BETTER APPROACH with list comprehension\n",
    "snowpack = [make_snowpack([1000.0], \"sticky_hard_spheres\", \n",
    "                          density=density, temperature=265,\n",
    "                          radius=x, stickiness=0.15) for x in radius]\n",
    "\n",
    "# see an even BETTER APPROACH at the end using pandas.DataFrame"
   ]
  },
  {
   "cell_type": "code",
   "execution_count": null,
   "metadata": {},
   "outputs": [],
   "source": [
    "# prepare the sensor and model\n",
    "\n",
    "model = make_model(\"iba\", \"dort\")\n",
    "sensor = sensor_list.passive(37e9, 55)\n",
    "\n",
    "#run!"
   ]
  },
  {
   "cell_type": "markdown",
   "metadata": {},
   "source": [
    "Now we have a list of snowpacks, we want to call the model for each snowpack. We can use list comprehension again."
   ]
  },
  {
   "cell_type": "code",
   "execution_count": null,
   "metadata": {},
   "outputs": [],
   "source": [
    "# a NAIVE APPROACH\n",
    "# call many times 'run' and get a list of results\n",
    "results = [model.run(sensor, sp) for sp in snowpack]\n",
    "\n",
    "# look at what we get:\n",
    "results"
   ]
  },
  {
   "cell_type": "markdown",
   "metadata": {},
   "source": [
    "This return a list of results. To extract the TB V for each result can be done with another list comprehension. And then we plot the results."
   ]
  },
  {
   "cell_type": "code",
   "execution_count": null,
   "metadata": {},
   "outputs": [],
   "source": [
    "# still the NAIVE APPROACH\n",
    "tbv = [res.TbV() for res in results]\n",
    "plt.figure()\n",
    "plt.plot(radius, tbv)"
   ]
  },
  {
   "cell_type": "markdown",
   "metadata": {},
   "source": [
    "Nice ? We can do much better because `Model` can directly run on a list of snowpacks. It does not return a list of results, but **a unique result with a new coordinate** which is much more convenient."
   ]
  },
  {
   "cell_type": "code",
   "execution_count": 34,
   "metadata": {},
   "outputs": [
    {
     "data": {
      "text/plain": [
       "<smrt.core.result.PassiveResult at 0x7f31e6691eb0>"
      ]
     },
     "execution_count": 34,
     "metadata": {},
     "output_type": "execute_result"
    }
   ],
   "source": [
    "# a BETTER APPROACH\n",
    "\n",
    "results = model.run(sensor, snowpack, snowpack_dimension=('radius', radius))\n",
    "# look at what we get:\n",
    "results"
   ]
  },
  {
   "cell_type": "code",
   "execution_count": 35,
   "metadata": {},
   "outputs": [
    {
     "data": {
      "text/plain": [
       "Coordinates:\n",
       "  * theta         (theta) float64 55.0\n",
       "  * polarization  (polarization) <U1 'V' 'H'\n",
       "  * radius        (radius) float64 5e-05 6e-05 7e-05 ... 0.00047 0.00048 0.00049\n",
       "  * frequency     (frequency) float64 1.87e+10 3.65e+10"
      ]
     },
     "execution_count": 35,
     "metadata": {},
     "output_type": "execute_result"
    }
   ],
   "source": [
    "results.coords # look, we have several coordinates, one is call radius"
   ]
  },
  {
   "cell_type": "markdown",
   "metadata": {},
   "source": [
    "This is more compact and nicer, `results` explicitly show the radius dimension. Plotting is thus easier:"
   ]
  },
  {
   "cell_type": "code",
   "execution_count": null,
   "metadata": {},
   "outputs": [],
   "source": [
    "plt.figure()\n",
    "plt.plot(results.radius, results.TbV())"
   ]
  },
  {
   "cell_type": "markdown",
   "metadata": {},
   "source": [
    "And it is easy to save all the result to disk:"
   ]
  },
  {
   "cell_type": "code",
   "execution_count": null,
   "metadata": {},
   "outputs": [],
   "source": [
    "results.save(\"radius-sensitivity.nc\")"
   ]
  },
  {
   "cell_type": "code",
   "execution_count": null,
   "metadata": {},
   "outputs": [],
   "source": [
    "# and you get // computation for free, just adding parallel_computation=True\n",
    "\n",
    "t0 = time.time()\n",
    "results = model.run(sensor, snowpack, snowpack_dimension=('radius', radius))\n",
    "print(\"sequential duration: \", time.time() - t0)\n",
    "\n",
    "t0 = time.time()\n",
    "results = model.run(sensor, snowpack, snowpack_dimension=('radius', radius), parallel_computation=True)\n",
    "print(\"parallel duration: \", time.time() - t0)\n",
    "\n",
    "\n",
    "results"
   ]
  },
  {
   "cell_type": "markdown",
   "metadata": {},
   "source": [
    "Using pandas.DataFrame\n",
    "-----------------------"
   ]
  },
  {
   "cell_type": "code",
   "execution_count": 27,
   "metadata": {
    "tags": []
   },
   "outputs": [
    {
     "data": {
      "text/html": [
       "<div>\n",
       "<style scoped>\n",
       "    .dataframe tbody tr th:only-of-type {\n",
       "        vertical-align: middle;\n",
       "    }\n",
       "\n",
       "    .dataframe tbody tr th {\n",
       "        vertical-align: top;\n",
       "    }\n",
       "\n",
       "    .dataframe thead th {\n",
       "        text-align: right;\n",
       "    }\n",
       "</style>\n",
       "<table border=\"1\" class=\"dataframe\">\n",
       "  <thead>\n",
       "    <tr style=\"text-align: right;\">\n",
       "      <th></th>\n",
       "      <th>radius</th>\n",
       "      <th>snowpack</th>\n",
       "    </tr>\n",
       "  </thead>\n",
       "  <tbody>\n",
       "    <tr>\n",
       "      <th>0</th>\n",
       "      <td>0.00005</td>\n",
       "      <td>Snowpack:       layer                         ...</td>\n",
       "    </tr>\n",
       "    <tr>\n",
       "      <th>1</th>\n",
       "      <td>0.00006</td>\n",
       "      <td>Snowpack:       layer                         ...</td>\n",
       "    </tr>\n",
       "    <tr>\n",
       "      <th>2</th>\n",
       "      <td>0.00007</td>\n",
       "      <td>Snowpack:       layer                         ...</td>\n",
       "    </tr>\n",
       "    <tr>\n",
       "      <th>3</th>\n",
       "      <td>0.00008</td>\n",
       "      <td>Snowpack:       layer                         ...</td>\n",
       "    </tr>\n",
       "    <tr>\n",
       "      <th>4</th>\n",
       "      <td>0.00009</td>\n",
       "      <td>Snowpack:       layer                         ...</td>\n",
       "    </tr>\n",
       "    <tr>\n",
       "      <th>5</th>\n",
       "      <td>0.00010</td>\n",
       "      <td>Snowpack:       layer                         ...</td>\n",
       "    </tr>\n",
       "    <tr>\n",
       "      <th>6</th>\n",
       "      <td>0.00011</td>\n",
       "      <td>Snowpack:       layer                         ...</td>\n",
       "    </tr>\n",
       "    <tr>\n",
       "      <th>7</th>\n",
       "      <td>0.00012</td>\n",
       "      <td>Snowpack:       layer                         ...</td>\n",
       "    </tr>\n",
       "    <tr>\n",
       "      <th>8</th>\n",
       "      <td>0.00013</td>\n",
       "      <td>Snowpack:       layer                         ...</td>\n",
       "    </tr>\n",
       "    <tr>\n",
       "      <th>9</th>\n",
       "      <td>0.00014</td>\n",
       "      <td>Snowpack:       layer                         ...</td>\n",
       "    </tr>\n",
       "    <tr>\n",
       "      <th>10</th>\n",
       "      <td>0.00015</td>\n",
       "      <td>Snowpack:       layer                         ...</td>\n",
       "    </tr>\n",
       "    <tr>\n",
       "      <th>11</th>\n",
       "      <td>0.00016</td>\n",
       "      <td>Snowpack:       layer                         ...</td>\n",
       "    </tr>\n",
       "    <tr>\n",
       "      <th>12</th>\n",
       "      <td>0.00017</td>\n",
       "      <td>Snowpack:       layer                         ...</td>\n",
       "    </tr>\n",
       "    <tr>\n",
       "      <th>13</th>\n",
       "      <td>0.00018</td>\n",
       "      <td>Snowpack:       layer                         ...</td>\n",
       "    </tr>\n",
       "    <tr>\n",
       "      <th>14</th>\n",
       "      <td>0.00019</td>\n",
       "      <td>Snowpack:       layer                         ...</td>\n",
       "    </tr>\n",
       "    <tr>\n",
       "      <th>15</th>\n",
       "      <td>0.00020</td>\n",
       "      <td>Snowpack:       layer                         ...</td>\n",
       "    </tr>\n",
       "    <tr>\n",
       "      <th>16</th>\n",
       "      <td>0.00021</td>\n",
       "      <td>Snowpack:       layer                         ...</td>\n",
       "    </tr>\n",
       "    <tr>\n",
       "      <th>17</th>\n",
       "      <td>0.00022</td>\n",
       "      <td>Snowpack:       layer                         ...</td>\n",
       "    </tr>\n",
       "    <tr>\n",
       "      <th>18</th>\n",
       "      <td>0.00023</td>\n",
       "      <td>Snowpack:       layer                         ...</td>\n",
       "    </tr>\n",
       "    <tr>\n",
       "      <th>19</th>\n",
       "      <td>0.00024</td>\n",
       "      <td>Snowpack:       layer                         ...</td>\n",
       "    </tr>\n",
       "    <tr>\n",
       "      <th>20</th>\n",
       "      <td>0.00025</td>\n",
       "      <td>Snowpack:       layer                         ...</td>\n",
       "    </tr>\n",
       "    <tr>\n",
       "      <th>21</th>\n",
       "      <td>0.00026</td>\n",
       "      <td>Snowpack:       layer                         ...</td>\n",
       "    </tr>\n",
       "    <tr>\n",
       "      <th>22</th>\n",
       "      <td>0.00027</td>\n",
       "      <td>Snowpack:       layer                         ...</td>\n",
       "    </tr>\n",
       "    <tr>\n",
       "      <th>23</th>\n",
       "      <td>0.00028</td>\n",
       "      <td>Snowpack:       layer                         ...</td>\n",
       "    </tr>\n",
       "    <tr>\n",
       "      <th>24</th>\n",
       "      <td>0.00029</td>\n",
       "      <td>Snowpack:       layer                         ...</td>\n",
       "    </tr>\n",
       "    <tr>\n",
       "      <th>25</th>\n",
       "      <td>0.00030</td>\n",
       "      <td>Snowpack:       layer                         ...</td>\n",
       "    </tr>\n",
       "    <tr>\n",
       "      <th>26</th>\n",
       "      <td>0.00031</td>\n",
       "      <td>Snowpack:       layer                         ...</td>\n",
       "    </tr>\n",
       "    <tr>\n",
       "      <th>27</th>\n",
       "      <td>0.00032</td>\n",
       "      <td>Snowpack:       layer                         ...</td>\n",
       "    </tr>\n",
       "    <tr>\n",
       "      <th>28</th>\n",
       "      <td>0.00033</td>\n",
       "      <td>Snowpack:       layer                         ...</td>\n",
       "    </tr>\n",
       "    <tr>\n",
       "      <th>29</th>\n",
       "      <td>0.00034</td>\n",
       "      <td>Snowpack:       layer                         ...</td>\n",
       "    </tr>\n",
       "    <tr>\n",
       "      <th>30</th>\n",
       "      <td>0.00035</td>\n",
       "      <td>Snowpack:       layer                         ...</td>\n",
       "    </tr>\n",
       "    <tr>\n",
       "      <th>31</th>\n",
       "      <td>0.00036</td>\n",
       "      <td>Snowpack:       layer                         ...</td>\n",
       "    </tr>\n",
       "    <tr>\n",
       "      <th>32</th>\n",
       "      <td>0.00037</td>\n",
       "      <td>Snowpack:       layer                         ...</td>\n",
       "    </tr>\n",
       "    <tr>\n",
       "      <th>33</th>\n",
       "      <td>0.00038</td>\n",
       "      <td>Snowpack:       layer                         ...</td>\n",
       "    </tr>\n",
       "    <tr>\n",
       "      <th>34</th>\n",
       "      <td>0.00039</td>\n",
       "      <td>Snowpack:       layer                         ...</td>\n",
       "    </tr>\n",
       "    <tr>\n",
       "      <th>35</th>\n",
       "      <td>0.00040</td>\n",
       "      <td>Snowpack:       layer                         ...</td>\n",
       "    </tr>\n",
       "    <tr>\n",
       "      <th>36</th>\n",
       "      <td>0.00041</td>\n",
       "      <td>Snowpack:       layer                         ...</td>\n",
       "    </tr>\n",
       "    <tr>\n",
       "      <th>37</th>\n",
       "      <td>0.00042</td>\n",
       "      <td>Snowpack:       layer                         ...</td>\n",
       "    </tr>\n",
       "    <tr>\n",
       "      <th>38</th>\n",
       "      <td>0.00043</td>\n",
       "      <td>Snowpack:       layer                         ...</td>\n",
       "    </tr>\n",
       "    <tr>\n",
       "      <th>39</th>\n",
       "      <td>0.00044</td>\n",
       "      <td>Snowpack:       layer                         ...</td>\n",
       "    </tr>\n",
       "    <tr>\n",
       "      <th>40</th>\n",
       "      <td>0.00045</td>\n",
       "      <td>Snowpack:       layer                         ...</td>\n",
       "    </tr>\n",
       "    <tr>\n",
       "      <th>41</th>\n",
       "      <td>0.00046</td>\n",
       "      <td>Snowpack:       layer                         ...</td>\n",
       "    </tr>\n",
       "    <tr>\n",
       "      <th>42</th>\n",
       "      <td>0.00047</td>\n",
       "      <td>Snowpack:       layer                         ...</td>\n",
       "    </tr>\n",
       "    <tr>\n",
       "      <th>43</th>\n",
       "      <td>0.00048</td>\n",
       "      <td>Snowpack:       layer                         ...</td>\n",
       "    </tr>\n",
       "    <tr>\n",
       "      <th>44</th>\n",
       "      <td>0.00049</td>\n",
       "      <td>Snowpack:       layer                         ...</td>\n",
       "    </tr>\n",
       "  </tbody>\n",
       "</table>\n",
       "</div>"
      ],
      "text/plain": [
       "     radius                                           snowpack\n",
       "0   0.00005  Snowpack:       layer                         ...\n",
       "1   0.00006  Snowpack:       layer                         ...\n",
       "2   0.00007  Snowpack:       layer                         ...\n",
       "3   0.00008  Snowpack:       layer                         ...\n",
       "4   0.00009  Snowpack:       layer                         ...\n",
       "5   0.00010  Snowpack:       layer                         ...\n",
       "6   0.00011  Snowpack:       layer                         ...\n",
       "7   0.00012  Snowpack:       layer                         ...\n",
       "8   0.00013  Snowpack:       layer                         ...\n",
       "9   0.00014  Snowpack:       layer                         ...\n",
       "10  0.00015  Snowpack:       layer                         ...\n",
       "11  0.00016  Snowpack:       layer                         ...\n",
       "12  0.00017  Snowpack:       layer                         ...\n",
       "13  0.00018  Snowpack:       layer                         ...\n",
       "14  0.00019  Snowpack:       layer                         ...\n",
       "15  0.00020  Snowpack:       layer                         ...\n",
       "16  0.00021  Snowpack:       layer                         ...\n",
       "17  0.00022  Snowpack:       layer                         ...\n",
       "18  0.00023  Snowpack:       layer                         ...\n",
       "19  0.00024  Snowpack:       layer                         ...\n",
       "20  0.00025  Snowpack:       layer                         ...\n",
       "21  0.00026  Snowpack:       layer                         ...\n",
       "22  0.00027  Snowpack:       layer                         ...\n",
       "23  0.00028  Snowpack:       layer                         ...\n",
       "24  0.00029  Snowpack:       layer                         ...\n",
       "25  0.00030  Snowpack:       layer                         ...\n",
       "26  0.00031  Snowpack:       layer                         ...\n",
       "27  0.00032  Snowpack:       layer                         ...\n",
       "28  0.00033  Snowpack:       layer                         ...\n",
       "29  0.00034  Snowpack:       layer                         ...\n",
       "30  0.00035  Snowpack:       layer                         ...\n",
       "31  0.00036  Snowpack:       layer                         ...\n",
       "32  0.00037  Snowpack:       layer                         ...\n",
       "33  0.00038  Snowpack:       layer                         ...\n",
       "34  0.00039  Snowpack:       layer                         ...\n",
       "35  0.00040  Snowpack:       layer                         ...\n",
       "36  0.00041  Snowpack:       layer                         ...\n",
       "37  0.00042  Snowpack:       layer                         ...\n",
       "38  0.00043  Snowpack:       layer                         ...\n",
       "39  0.00044  Snowpack:       layer                         ...\n",
       "40  0.00045  Snowpack:       layer                         ...\n",
       "41  0.00046  Snowpack:       layer                         ...\n",
       "42  0.00047  Snowpack:       layer                         ...\n",
       "43  0.00048  Snowpack:       layer                         ...\n",
       "44  0.00049  Snowpack:       layer                         ..."
      ]
     },
     "execution_count": 27,
     "metadata": {},
     "output_type": "execute_result"
    }
   ],
   "source": [
    "# here we build a simple DataFrame with the radius. More complex sensitivity analysis with more variables is possible\n",
    "# for instance radius and density could co-vary.\n",
    "\n",
    "sp = pd.DataFrame({'radius' : np.arange(0.05, 0.5, 0.01) * 1e-3})\n",
    "\n",
    "sp['snowpack'] = [make_snowpack([1000.0], \"sticky_hard_spheres\", \n",
    "                          density=density, temperature=265,\n",
    "                          radius=row['radius'], stickiness=0.15) for i, row in sp.iterrows()]\n",
    "\n",
    "# show the dataframe\n",
    "sp"
   ]
  },
  {
   "cell_type": "code",
   "execution_count": null,
   "metadata": {},
   "outputs": [],
   "source": [
    "results = model.run(sensor, sp)\n",
    "\n",
    "# that's it\n",
    "results"
   ]
  },
  {
   "cell_type": "code",
   "execution_count": null,
   "metadata": {},
   "outputs": [],
   "source": [
    "# you can even convert the results object to a dataframe\n",
    "\n",
    "results = model.run(sensor, sp).to_dataframe()\n",
    "# that's it\n",
    "results"
   ]
  },
  {
   "cell_type": "markdown",
   "metadata": {},
   "source": [
    "It is recommended to use a named sensor with a channel_map (e.g. amsre, smos, ...) as defined in smrt.sensor.list. In this case the columns of the DataFrame are the channels of the sensor. It is a very convenient way to run multiple simulations and use the results for plotting or stats."
   ]
  },
  {
   "cell_type": "code",
   "execution_count": null,
   "metadata": {},
   "outputs": [],
   "source": [
    "# try this."
   ]
  },
  {
   "cell_type": "markdown",
   "metadata": {},
   "source": [
    "Recap:\n",
    "---------"
   ]
  },
  {
   "cell_type": "code",
   "execution_count": null,
   "metadata": {},
   "outputs": [],
   "source": [
    "# with List\n",
    "snowpack = [make_snowpack([1000.0], \"sticky_hard_spheres\", density=density, temperature=265, radius=x, stickiness=0.15) for x in radius]\n",
    "\n",
    "model = make_model(\"iba\", \"dort\")\n",
    "sensor = sensor_list.passive([19e9, 37e9], 55)\n",
    "\n",
    "results = model.run(sensor, snowpack, snowpack_dimension=('radius', radius), parallel_computation=True)\n",
    "\n",
    "plt.figure()\n",
    "plt.plot(results.radius, results.TbV(frequency=19e9), label=\"19 GHz\")\n",
    "plt.plot(results.radius, results.TbV(frequency=37e9), label=\"37 GHz\")\n",
    "plt.legend()"
   ]
  },
  {
   "cell_type": "code",
   "execution_count": null,
   "metadata": {},
   "outputs": [],
   "source": [
    "# with DataFrame\n",
    "sp = pd.DataFrame({'radius' : np.arange(0.05, 0.5, 0.01) * 1e-3})\n",
    "\n",
    "sp['snowpack'] = [make_snowpack([1000.0], \"sticky_hard_spheres\", \n",
    "                          density=density, temperature=265,\n",
    "                          radius=row['radius'], stickiness=0.15) for i, row in sp.iterrows()]\n",
    "\n",
    "model = make_model(\"iba\", \"dort\")\n",
    "sensor = sensor_list.amsre(['19', '37'])\n",
    "\n",
    "results = model.run(sensor, sp, parallel_computation=True).to_dataframe()\n",
    "\n",
    "plt.figure()\n",
    "plt.plot(results['radius'], results['19V'], label=\"19 GHz\")\n",
    "plt.plot(results['radius'], results['37V'], label=\"37 GHz\")\n",
    "plt.legend()"
   ]
  },
  {
   "cell_type": "markdown",
   "metadata": {},
   "source": [
    "## Do it yourself\n",
    "\n",
    "Easy: plot Tb as a function liquid_water_content for a single-layer snowpack\n",
    "or\n",
    "More invovled: plot a map of Tb(radius, density) using a single run call (hint: use pd.DataFrame)"
   ]
  }
 ],
 "metadata": {
  "hide_input": false,
  "kernelspec": {
   "display_name": "Python (smrt)",
   "language": "python",
   "name": "smrt"
  },
  "language_info": {
   "codemirror_mode": {
    "name": "ipython",
    "version": 3
   },
   "file_extension": ".py",
   "mimetype": "text/x-python",
   "name": "python",
   "nbconvert_exporter": "python",
   "pygments_lexer": "ipython3",
   "version": "3.9.16"
  },
  "nav_menu": {},
  "toc": {
   "navigate_menu": true,
   "number_sections": true,
   "sideBar": true,
   "threshold": 6,
   "toc_cell": false,
   "toc_section_display": "block",
   "toc_window_display": false
  },
  "varInspector": {
   "cols": {
    "lenName": 16,
    "lenType": 16,
    "lenVar": 40
   },
   "kernels_config": {
    "python": {
     "delete_cmd_postfix": "",
     "delete_cmd_prefix": "del ",
     "library": "var_list.py",
     "varRefreshCmd": "print(var_dic_list())"
    },
    "r": {
     "delete_cmd_postfix": ") ",
     "delete_cmd_prefix": "rm(",
     "library": "var_list.r",
     "varRefreshCmd": "cat(var_dic_list()) "
    }
   },
   "types_to_exclude": [
    "module",
    "function",
    "builtin_function_or_method",
    "instance",
    "_Feature"
   ],
   "window_display": false
  }
 },
 "nbformat": 4,
 "nbformat_minor": 4
}
