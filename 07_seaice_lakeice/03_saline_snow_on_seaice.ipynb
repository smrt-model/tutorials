{
 "cells": [
  {
   "attachments": {},
   "cell_type": "markdown",
   "id": "5d7b78ab",
   "metadata": {},
   "source": [
    "### Saline snow in SMRT\n",
    "\n",
    "Brine is expelled upwards into the snowpack as sea ice is formed, leading to highly saline layers at the base of the snowpack. This has an impact on the microwave behaviour on the snowpack e.g. Nandan et al. (2017) https://doi.org/10.1002/2017GL074506.\n",
    "\n",
    "Here is a plot of measured snow salinity from four different sites during the AKROSS project. Note the high salinity near and at the base of the snowpack.\n",
    "![Measured salinity profiles from AKROSS project](Salinity_profile.png)\n",
    "\n",
    "__Goal__:\n",
    "    - add salinity to snowpack\n",
    "    - determine sensitivity of results to snow salinity\n",
    "    \n",
    "\n",
    "__Learning__: understand impact of snow salinity on microwave scattering"
   ]
  },
  {
   "cell_type": "code",
   "execution_count": null,
   "id": "b7fe0820",
   "metadata": {},
   "outputs": [],
   "source": [
    "# Standard imports\n",
    "import numpy as np\n",
    "\n",
    "import matplotlib.pyplot as plt\n",
    "%matplotlib notebook\n",
    "\n",
    "from smrt import make_model, make_snowpack, make_ice_column, sensor_list, PSU"
   ]
  },
  {
   "cell_type": "markdown",
   "id": "3fc1ca7d",
   "metadata": {},
   "source": [
    "Make a standard snowpack and ice column"
   ]
  },
  {
   "cell_type": "code",
   "execution_count": null,
   "id": "ae5f1c17",
   "metadata": {},
   "outputs": [],
   "source": [
    "# sp_pure = ...\n",
    "# ic = ..."
   ]
  },
  {
   "attachments": {},
   "cell_type": "markdown",
   "id": "7d6302c0",
   "metadata": {},
   "source": [
    "Make a saline snowpack. Data from the AK2 site in the above graph are:\n",
    "\n",
    "|Depth top     | Depth bottom | Salinity (PSU) |\n",
    "|--------------|-----------|------------|\n",
    "| 13\t|10 |1.93|\n",
    "|10|\t7| 2.27|\n",
    "|7\t|4| 1.14|\n",
    "|4\t|1| 1.23|\n",
    "|0\t|0| 12.72|\n",
    "|0\t|-5| 7.39|\n",
    "\n",
    "Add in the salinity to the snowpack with the argument salinity=[...]"
   ]
  },
  {
   "cell_type": "code",
   "execution_count": null,
   "id": "41aa681d",
   "metadata": {},
   "outputs": [],
   "source": [
    "# sp_saline = ..."
   ]
  },
  {
   "cell_type": "markdown",
   "id": "74cf029b",
   "metadata": {},
   "source": [
    "Add salty and non-salty snowpacks to the ice column, construct sensor and model. Run model on the two profiles and compare non-salty and salty results. "
   ]
  },
  {
   "cell_type": "code",
   "execution_count": null,
   "id": "8cd23053",
   "metadata": {},
   "outputs": [],
   "source": []
  },
  {
   "cell_type": "markdown",
   "id": "7557b3ef",
   "metadata": {},
   "source": [
    "What has happened? Is this expected? How could you fix it?\n",
    "\n",
    "Hint:\n",
    "\n",
    "![Spider graph of SMRT permittivity functions](Permittivity.png)\n",
    "\n",
    "and optional argument ice_permittivity_model"
   ]
  },
  {
   "cell_type": "code",
   "execution_count": null,
   "id": "e4202486",
   "metadata": {},
   "outputs": [],
   "source": []
  }
 ],
 "metadata": {
  "kernelspec": {
   "display_name": "Python 3 (ipykernel)",
   "language": "python",
   "name": "python3"
  },
  "language_info": {
   "codemirror_mode": {
    "name": "ipython",
    "version": 3
   },
   "file_extension": ".py",
   "mimetype": "text/x-python",
   "name": "python",
   "nbconvert_exporter": "python",
   "pygments_lexer": "ipython3",
   "version": "3.11.3"
  }
 },
 "nbformat": 4,
 "nbformat_minor": 5
}
