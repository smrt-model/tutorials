{
 "cells": [
  {
   "cell_type": "markdown",
   "metadata": {},
   "source": [
    "Ice in SMRT\n",
    "===========\n",
    "\n",
    "__Goal__:\n",
    " - run SMRT with multi-layer snowpack + multi-layer ice column\n",
    " - understand the difference between first-year and multi-year ice in SMRT, which has a profound impact on how the electromagnetic medium is modeled. This is not necessarily as expected from a sea-ice scientist point of view.\n",
    "  \n",
    "__Learning__: make_ice_column\n",
    "\n",
    "__Thanks__: to Ludovic Brucker, Nina Mass, and Mai Winstrup for implementing the sea-ice and salty snow in SMRT.\n",
    " "
   ]
  },
  {
   "cell_type": "code",
   "execution_count": 1,
   "metadata": {},
   "outputs": [],
   "source": [
    "import numpy as np\n",
    "\n",
    "import matplotlib.pyplot as plt\n",
    "%matplotlib notebook\n",
    "\n",
    "from smrt import make_model, make_snowpack, make_ice_column, sensor_list, PSU\n",
    "from smrt.utils import dB\n"
   ]
  },
  {
   "cell_type": "markdown",
   "metadata": {},
   "source": [
    "Ice column\n",
    "-----------------\n",
    "\n",
    "The function make_ice_column works as make_snowpack, but with optional parameters adapted to sea-ice. The only main difference is a first argument that specifies the type of ice: firstyear, multiyear, or fresh. We had to make a clear difference between first-year and multi-year because of a current limitation of IBA and DMRT. They can only compute scattering for a two-phase medium, so brines and bubbles can not be (yet) modeled both as scatterers at the same time.\n",
    "\n",
    "So in SMRT:\n",
    "- first-year ice = brine pockets in a fresh ice background. It means that brines absorb and scatter the waves. The background is weakly absorbant.\n",
    "- multi-year ice = air bubbles in a salty ice background. It means only air bubbles scatter the waves. The brines in multi-year ice contribute to absorption as in first year ice, but they do not scatter. \n",
    "- fresh ice = air bubbles in a fresh ice background. This is the same as multi-year ice but salinity is not considered.\n",
    "\n",
    "For other details, please read the doc:\n",
    "https://smrt.readthedocs.io/en/latest/smrt.inputs.make_medium.html#smrt.inputs.make_medium.make_ice_column\n",
    "\n",
    "NB: salinity is in kg/kg not PSU. But PSU variable can be imported to make the conversion.\n"
   ]
  },
  {
   "cell_type": "code",
   "execution_count": 2,
   "metadata": {},
   "outputs": [],
   "source": [
    "# the simplest example\n",
    "temperature = 273 - 5\n",
    "salinity = 8 * PSU  # ice salinity\n",
    "radius = 0.2e-3  # radius of the brines\n",
    "\n",
    "ic = make_ice_column('firstyear', thickness=[1.0], microstructure_model='sticky_hard_spheres', \n",
    "                     temperature=temperature, salinity=salinity, radius=radius)"
   ]
  },
  {
   "cell_type": "code",
   "execution_count": 16,
   "metadata": {},
   "outputs": [],
   "source": [
    "# prepare the sensor. Prepare the model (with IBA) and run it. Print or plot the results\n"
   ]
  },
  {
   "cell_type": "markdown",
   "metadata": {},
   "source": [
    "In the previous example, brine fractional volume was estimated from temperature (see smrt/permittivity/brine.py for details):"
   ]
  },
  {
   "cell_type": "code",
   "execution_count": 14,
   "metadata": {},
   "outputs": [
    {
     "data": {
      "text/plain": [
       "0.25"
      ]
     },
     "execution_count": 14,
     "metadata": {},
     "output_type": "execute_result"
    }
   ],
   "source": [
    "ic.layers[0].brine_volume_fraction"
   ]
  },
  {
   "cell_type": "markdown",
   "metadata": {},
   "source": [
    "But it can also be set: change the previous code to set the brine_volume_fraction to 0.25. Re-run the model and compare the results."
   ]
  },
  {
   "cell_type": "code",
   "execution_count": null,
   "metadata": {},
   "outputs": [],
   "source": []
  },
  {
   "cell_type": "markdown",
   "metadata": {},
   "source": [
    "Are the results the same as before or different? Is this expected?"
   ]
  },
  {
   "cell_type": "markdown",
   "metadata": {},
   "source": [
    "Note that make_ice_column automatically assumes an infinite layer of water is under the ice. This can be disabled (set add_water_substrate=False), in which case it is possible to add another substrate (e.g. soil).\n",
    "\n",
    "The water parameters can be changed: water_temperature, water_salinity, water_permittivity_model\n",
    "\n",
    "To test this, you can make a shallow ice column, use low frequency and play with water_temperature or water_salinity to see what happens.\n"
   ]
  },
  {
   "cell_type": "code",
   "execution_count": null,
   "metadata": {},
   "outputs": [],
   "source": []
  },
  {
   "cell_type": "markdown",
   "metadata": {},
   "source": [
    "Adapt the previous code to make a multi-year ice column. In this case, porosity (the fractional volume of air bubble) is a required argument, and brine_volume_fraction is not needed.\n",
    "\n",
    "read the doc: https://smrt.readthedocs.io/en/latest/smrt.inputs.make_medium.html#smrt.inputs.make_medium.make_ice_column\n",
    "\n",
    "Compare the different results between multiyear and first year ice."
   ]
  },
  {
   "cell_type": "code",
   "execution_count": null,
   "metadata": {},
   "outputs": [],
   "source": []
  },
  {
   "cell_type": "markdown",
   "metadata": {},
   "source": [
    "If interested, you can also test the 'fresh' type to make lake ice. "
   ]
  },
  {
   "cell_type": "code",
   "execution_count": null,
   "metadata": {},
   "outputs": [],
   "source": []
  },
  {
   "cell_type": "markdown",
   "metadata": {},
   "source": [
    "Snow on ice\n",
    "------------------------------------------------\n",
    "\n",
    "It is likely you'd like to add snow on ice. This can't be easier: prepare the two media and use the + operation to stack them:\n",
    "- ic = make_ice_column(...)\n",
    "- sp = make_snowpack(...)\n",
    "- seaice = sp + ic\n",
    "Then use seaice as you would use sp.\n"
   ]
  },
  {
   "cell_type": "markdown",
   "metadata": {},
   "source": [
    "Prepare a snowpack with a few layers, say with 3 10-cm thick layers, same density 350 kg m$^{-3}$), temperature (e.g. -10°C, -6°C, -2°C) same correlation length (100$\\mu$m) and same stickiness (0.15)."
   ]
  },
  {
   "cell_type": "code",
   "execution_count": null,
   "metadata": {},
   "outputs": [],
   "source": [
    "# prepare the multi-layer snowpack"
   ]
  },
  {
   "cell_type": "code",
   "execution_count": null,
   "metadata": {},
   "outputs": [],
   "source": [
    "thickness = [10e-2, 10e-2, 10e-2]\n",
    "#sp = make_snowpack(thickness, ....)\n"
   ]
  },
  {
   "cell_type": "code",
   "execution_count": null,
   "metadata": {},
   "outputs": [],
   "source": [
    "# Prepare the model and run it. Print or plot the results"
   ]
  },
  {
   "cell_type": "markdown",
   "metadata": {},
   "source": [
    "(time dependent) You can make a sensitivity analysis to snow depth"
   ]
  },
  {
   "cell_type": "code",
   "execution_count": null,
   "metadata": {},
   "outputs": [],
   "source": []
  }
 ],
 "metadata": {
  "hide_input": false,
  "kernelspec": {
   "display_name": "Python 3 (ipykernel)",
   "language": "python",
   "name": "python3"
  },
  "language_info": {
   "codemirror_mode": {
    "name": "ipython",
    "version": 3
   },
   "file_extension": ".py",
   "mimetype": "text/x-python",
   "name": "python",
   "nbconvert_exporter": "python",
   "pygments_lexer": "ipython3",
   "version": "3.10.10"
  },
  "nav_menu": {},
  "toc": {
   "navigate_menu": true,
   "number_sections": true,
   "sideBar": true,
   "threshold": 6,
   "toc_cell": false,
   "toc_section_display": "block",
   "toc_window_display": false
  },
  "varInspector": {
   "cols": {
    "lenName": 16,
    "lenType": 16,
    "lenVar": 40
   },
   "kernels_config": {
    "python": {
     "delete_cmd_postfix": "",
     "delete_cmd_prefix": "del ",
     "library": "var_list.py",
     "varRefreshCmd": "print(var_dic_list())"
    },
    "r": {
     "delete_cmd_postfix": ") ",
     "delete_cmd_prefix": "rm(",
     "library": "var_list.r",
     "varRefreshCmd": "cat(var_dic_list()) "
    }
   },
   "types_to_exclude": [
    "module",
    "function",
    "builtin_function_or_method",
    "instance",
    "_Feature"
   ],
   "window_display": false
  }
 },
 "nbformat": 4,
 "nbformat_minor": 4
}
