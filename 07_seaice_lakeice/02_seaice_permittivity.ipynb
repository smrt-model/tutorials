{
 "cells": [
  {
   "cell_type": "markdown",
   "id": "819d8626",
   "metadata": {},
   "source": [
    "### Ice permittivity in SMRT\n",
    "\n",
    "__Goal__:\n",
    "\n",
    "    - run SMRT with different permittivity functions\n",
    "    - look inside permittivity functions to consider which might be most appropriate\n",
    "    - compare impact of different permittivity representations\n",
    "\n",
    "__Learning__: appreciate how fundamental the permittivity choice is"
   ]
  },
  {
   "cell_type": "code",
   "execution_count": null,
   "id": "99c4145c",
   "metadata": {},
   "outputs": [],
   "source": [
    "# Standard imports\n",
    "import numpy as np\n",
    "\n",
    "import matplotlib.pyplot as plt\n",
    "%matplotlib notebook\n",
    "\n",
    "from smrt import make_model, make_snowpack, make_ice_column, sensor_list, PSU"
   ]
  },
  {
   "cell_type": "code",
   "execution_count": null,
   "id": "2f625de9",
   "metadata": {},
   "outputs": [],
   "source": [
    "# Again, use the simplest example\n",
    "temperature = 273 - 5\n",
    "salinity = 8 * PSU  # ice salinity\n",
    "radius = 0.2e-3  # radius of the brines\n",
    "\n",
    "ic = make_ice_column('firstyear', thickness=[1.0], microstructure_model='sticky_hard_spheres', \n",
    "                     temperature=temperature, salinity=salinity, radius=radius)"
   ]
  },
  {
   "cell_type": "markdown",
   "id": "f91af844",
   "metadata": {},
   "source": [
    "Have a look at the permittivity model used."
   ]
  },
  {
   "cell_type": "code",
   "execution_count": null,
   "id": "b6050647",
   "metadata": {},
   "outputs": [],
   "source": [
    "ic.layers[0].permittivity_model"
   ]
  },
  {
   "cell_type": "markdown",
   "id": "ebd01699",
   "metadata": {},
   "source": [
    "Why are there two permittivities specified? Neither have a dependence on salinity - why is this? \n",
    "\n",
    "Make a plot of permittivity vs temperature"
   ]
  },
  {
   "cell_type": "code",
   "execution_count": null,
   "id": "a9114ab9",
   "metadata": {},
   "outputs": [],
   "source": []
  },
  {
   "cell_type": "markdown",
   "id": "13aef268",
   "metadata": {},
   "source": [
    "Change the default permittivity model of brine to seawater_permittivity_klein76. Note you will need to remake the ice column (cf.  01_seaice_lakeice tutorial). To find the optional argument required type 'make_ice_column' or see the SMRT documentation. You will need to import the non-default function"
   ]
  },
  {
   "cell_type": "code",
   "execution_count": null,
   "id": "04e6ee04",
   "metadata": {},
   "outputs": [],
   "source": [
    "from smrt.permittivity.saline_water import seawater_permittivity_klein76\n",
    "\n"
   ]
  },
  {
   "cell_type": "markdown",
   "id": "19041f61",
   "metadata": {},
   "source": [
    "Calculate the permittivity temperature dependence of this model and compare with the brine_permittivity_stogryn85 model"
   ]
  },
  {
   "cell_type": "code",
   "execution_count": null,
   "id": "ff43cb5f",
   "metadata": {},
   "outputs": [],
   "source": [
    "\n"
   ]
  },
  {
   "cell_type": "markdown",
   "id": "c97e40bd",
   "metadata": {},
   "source": [
    "Create a sensor, model and look at the impact of permittivity model(s) on the results. How important is the choice? Note that the way in which SMRT calculates the effective permittivity of the medium may also matter - this is part of the electromagnetic model (see Henning's Lecture)."
   ]
  }
 ],
 "metadata": {
  "kernelspec": {
   "display_name": "Python 3 (ipykernel)",
   "language": "python",
   "name": "python3"
  },
  "language_info": {
   "codemirror_mode": {
    "name": "ipython",
    "version": 3
   },
   "file_extension": ".py",
   "mimetype": "text/x-python",
   "name": "python",
   "nbconvert_exporter": "python",
   "pygments_lexer": "ipython3",
   "version": "3.10.10"
  }
 },
 "nbformat": 4,
 "nbformat_minor": 5
}
