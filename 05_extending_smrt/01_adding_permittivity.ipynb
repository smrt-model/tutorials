{
 "cells": [
  {
   "cell_type": "markdown",
   "metadata": {},
   "source": [
    "Extending SMRT\n",
    "=============\n",
    "\n",
    "There are different ways to extend SMRT, here we address the case of ice permittivity.\n",
    "\n",
    "Open the smrt/permittivity/ice.py file in an editor to see how it looks like: permittivity functions are defined as normal python functions with several arguments. There is some rules or some tricks:\n",
    "- `frequency` is the first one and MUST be there for any permittivity function.\n",
    "- the second one is often `temperature`, this is recommended.\n",
    "- optionaly other arguments depending on the formulation.\n",
    "\n",
    "How SMRT know what to do with this variable number of arguments ?\n",
    "\n",
    "We heavily use dynamical  nature of python because we really want users to define new arguments at will, without changing the core of the model and keeping the compatibility. Here for the permittivity, the trick is in the declaration `@layer_properties(\"temperature\", \"salinity\")` put just before the function declaration. This tells SMRT that this function needs to temperature and salinity arguments that are taken from the layer for which we want to compute the permittivity. The important point is that **any new arguments can be defined without changing anything in SMRT core**.\n",
    "\n",
    "Example:\n"
   ]
  },
  {
   "cell_type": "code",
   "execution_count": null,
   "metadata": {},
   "outputs": [],
   "source": [
    "from smrt import make_model, make_snowpack, sensor_list\n",
    "\n",
    "from smrt.core.layer import layer_properties"
   ]
  },
  {
   "cell_type": "code",
   "execution_count": null,
   "metadata": {},
   "outputs": [],
   "source": [
    "# let's defined a new function\n",
    "\n",
    "@layer_properties(\"temperature\", \"potassium_concentration\")\n",
    "def new_ice_permittivity(frequency, temperature, potassium_concentration):\n",
    "    return 3.1884 + 1j * (0.1 + potassium_concentration * 0.001)  # this is purely imaginative!!!!!!!!"
   ]
  },
  {
   "cell_type": "code",
   "execution_count": null,
   "metadata": {},
   "outputs": [],
   "source": [
    "# let's defined the snowpack\n",
    "\n",
    "thickness = [10]\n",
    "density = 350\n",
    "temperature = 270\n",
    "radius = 100e-6\n",
    "\n",
    "sp = make_snowpack(thickness, 'sticky_hard_spheres',\n",
    "                   density=density, radius=radius, temperature=temperature,\n",
    "                   potassium_concentration=0.1,\n",
    "                   ice_permittivity_model=new_ice_permittivity) # here we declare we want the new permittivity\n"
   ]
  },
  {
   "cell_type": "code",
   "execution_count": null,
   "metadata": {},
   "outputs": [],
   "source": [
    "sp.layers[0].potassium_concentration"
   ]
  },
  {
   "cell_type": "code",
   "execution_count": null,
   "metadata": {},
   "outputs": [],
   "source": [
    "sensor = sensor_list.amsre()\n",
    "m = make_model(\"iba\", \"dort\")\n",
    "result = m.run(sensor, sp)\n",
    "\n",
    "# execute this code and see the last line of the error message below\n",
    "# does it make sense ? The call to the new_ice_permittivity function needs\n",
    "# potassium_concentration to be provided.\n",
    "# to fix the problem, just add potassium_concentration=5.0e-3 to the make_snowpack call and reexcute.\n",
    "# the cells.\n",
    "# Remember: \"potassium_concentration\" never appears in SMRT code, it is purely user-defined.\n",
    "# Any other variables (as long as it does not colleige with internal SMRT naming) is valid.\n",
    "# \"K_conc\", \"myarg1\" are valid though we strongly recommend explicit naming such as potassium_concentration "
   ]
  },
  {
   "cell_type": "code",
   "execution_count": null,
   "metadata": {},
   "outputs": [],
   "source": []
  }
 ],
 "metadata": {
  "hide_input": false,
  "kernelspec": {
   "display_name": "Python (smrt)",
   "language": "python",
   "name": "smrt"
  },
  "language_info": {
   "codemirror_mode": {
    "name": "ipython",
    "version": 3
   },
   "file_extension": ".py",
   "mimetype": "text/x-python",
   "name": "python",
   "nbconvert_exporter": "python",
   "pygments_lexer": "ipython3",
   "version": "3.10.12"
  },
  "nav_menu": {},
  "toc": {
   "navigate_menu": true,
   "number_sections": true,
   "sideBar": true,
   "threshold": 6,
   "toc_cell": false,
   "toc_section_display": "block",
   "toc_window_display": false
  },
  "varInspector": {
   "cols": {
    "lenName": 16,
    "lenType": 16,
    "lenVar": 40
   },
   "kernels_config": {
    "python": {
     "delete_cmd_postfix": "",
     "delete_cmd_prefix": "del ",
     "library": "var_list.py",
     "varRefreshCmd": "print(var_dic_list())"
    },
    "r": {
     "delete_cmd_postfix": ") ",
     "delete_cmd_prefix": "rm(",
     "library": "var_list.r",
     "varRefreshCmd": "cat(var_dic_list()) "
    }
   },
   "types_to_exclude": [
    "module",
    "function",
    "builtin_function_or_method",
    "instance",
    "_Feature"
   ],
   "window_display": false
  }
 },
 "nbformat": 4,
 "nbformat_minor": 4
}
